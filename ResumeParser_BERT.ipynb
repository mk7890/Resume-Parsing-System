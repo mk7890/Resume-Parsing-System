{
  "nbformat": 4,
  "nbformat_minor": 0,
  "metadata": {
    "colab": {
      "provenance": [],
      "authorship_tag": "ABX9TyN6M3Pt5jTXwsfpX5nQ65g2",
      "include_colab_link": true
    },
    "kernelspec": {
      "name": "python3",
      "display_name": "Python 3"
    },
    "language_info": {
      "name": "python"
    },
    "widgets": {
      "application/vnd.jupyter.widget-state+json": {
        "1a34547207de45488a0b632db123c534": {
          "model_module": "@jupyter-widgets/controls",
          "model_name": "HBoxModel",
          "model_module_version": "1.5.0",
          "state": {
            "_dom_classes": [],
            "_model_module": "@jupyter-widgets/controls",
            "_model_module_version": "1.5.0",
            "_model_name": "HBoxModel",
            "_view_count": null,
            "_view_module": "@jupyter-widgets/controls",
            "_view_module_version": "1.5.0",
            "_view_name": "HBoxView",
            "box_style": "",
            "children": [
              "IPY_MODEL_446f86b0ae8145649bbe549f0f73b662",
              "IPY_MODEL_9b157893d5fc4ee98365c6de33dd2fed",
              "IPY_MODEL_29089f1afc4d414c8fcef38e7ad5b5bc"
            ],
            "layout": "IPY_MODEL_4318b6d49ff0460e92a00a4524055b91"
          }
        },
        "446f86b0ae8145649bbe549f0f73b662": {
          "model_module": "@jupyter-widgets/controls",
          "model_name": "HTMLModel",
          "model_module_version": "1.5.0",
          "state": {
            "_dom_classes": [],
            "_model_module": "@jupyter-widgets/controls",
            "_model_module_version": "1.5.0",
            "_model_name": "HTMLModel",
            "_view_count": null,
            "_view_module": "@jupyter-widgets/controls",
            "_view_module_version": "1.5.0",
            "_view_name": "HTMLView",
            "description": "",
            "description_tooltip": null,
            "layout": "IPY_MODEL_bbfd974d67a04c4eb49def75ce9368b0",
            "placeholder": "​",
            "style": "IPY_MODEL_604018b6032f4901a6749b7099091cb6",
            "value": "config.json: 100%"
          }
        },
        "9b157893d5fc4ee98365c6de33dd2fed": {
          "model_module": "@jupyter-widgets/controls",
          "model_name": "FloatProgressModel",
          "model_module_version": "1.5.0",
          "state": {
            "_dom_classes": [],
            "_model_module": "@jupyter-widgets/controls",
            "_model_module_version": "1.5.0",
            "_model_name": "FloatProgressModel",
            "_view_count": null,
            "_view_module": "@jupyter-widgets/controls",
            "_view_module_version": "1.5.0",
            "_view_name": "ProgressView",
            "bar_style": "success",
            "description": "",
            "description_tooltip": null,
            "layout": "IPY_MODEL_b6a39742d0f54d029ddbfb2717190aad",
            "max": 998,
            "min": 0,
            "orientation": "horizontal",
            "style": "IPY_MODEL_c395f00296214d968a0c10adf89f2ce7",
            "value": 998
          }
        },
        "29089f1afc4d414c8fcef38e7ad5b5bc": {
          "model_module": "@jupyter-widgets/controls",
          "model_name": "HTMLModel",
          "model_module_version": "1.5.0",
          "state": {
            "_dom_classes": [],
            "_model_module": "@jupyter-widgets/controls",
            "_model_module_version": "1.5.0",
            "_model_name": "HTMLModel",
            "_view_count": null,
            "_view_module": "@jupyter-widgets/controls",
            "_view_module_version": "1.5.0",
            "_view_name": "HTMLView",
            "description": "",
            "description_tooltip": null,
            "layout": "IPY_MODEL_b3d68eeac676488186f3b7c6ea1a69b7",
            "placeholder": "​",
            "style": "IPY_MODEL_3e4cb44a6b9544b4baef59a3bb0e173e",
            "value": " 998/998 [00:00&lt;00:00, 19.2kB/s]"
          }
        },
        "4318b6d49ff0460e92a00a4524055b91": {
          "model_module": "@jupyter-widgets/base",
          "model_name": "LayoutModel",
          "model_module_version": "1.2.0",
          "state": {
            "_model_module": "@jupyter-widgets/base",
            "_model_module_version": "1.2.0",
            "_model_name": "LayoutModel",
            "_view_count": null,
            "_view_module": "@jupyter-widgets/base",
            "_view_module_version": "1.2.0",
            "_view_name": "LayoutView",
            "align_content": null,
            "align_items": null,
            "align_self": null,
            "border": null,
            "bottom": null,
            "display": null,
            "flex": null,
            "flex_flow": null,
            "grid_area": null,
            "grid_auto_columns": null,
            "grid_auto_flow": null,
            "grid_auto_rows": null,
            "grid_column": null,
            "grid_gap": null,
            "grid_row": null,
            "grid_template_areas": null,
            "grid_template_columns": null,
            "grid_template_rows": null,
            "height": null,
            "justify_content": null,
            "justify_items": null,
            "left": null,
            "margin": null,
            "max_height": null,
            "max_width": null,
            "min_height": null,
            "min_width": null,
            "object_fit": null,
            "object_position": null,
            "order": null,
            "overflow": null,
            "overflow_x": null,
            "overflow_y": null,
            "padding": null,
            "right": null,
            "top": null,
            "visibility": null,
            "width": null
          }
        },
        "bbfd974d67a04c4eb49def75ce9368b0": {
          "model_module": "@jupyter-widgets/base",
          "model_name": "LayoutModel",
          "model_module_version": "1.2.0",
          "state": {
            "_model_module": "@jupyter-widgets/base",
            "_model_module_version": "1.2.0",
            "_model_name": "LayoutModel",
            "_view_count": null,
            "_view_module": "@jupyter-widgets/base",
            "_view_module_version": "1.2.0",
            "_view_name": "LayoutView",
            "align_content": null,
            "align_items": null,
            "align_self": null,
            "border": null,
            "bottom": null,
            "display": null,
            "flex": null,
            "flex_flow": null,
            "grid_area": null,
            "grid_auto_columns": null,
            "grid_auto_flow": null,
            "grid_auto_rows": null,
            "grid_column": null,
            "grid_gap": null,
            "grid_row": null,
            "grid_template_areas": null,
            "grid_template_columns": null,
            "grid_template_rows": null,
            "height": null,
            "justify_content": null,
            "justify_items": null,
            "left": null,
            "margin": null,
            "max_height": null,
            "max_width": null,
            "min_height": null,
            "min_width": null,
            "object_fit": null,
            "object_position": null,
            "order": null,
            "overflow": null,
            "overflow_x": null,
            "overflow_y": null,
            "padding": null,
            "right": null,
            "top": null,
            "visibility": null,
            "width": null
          }
        },
        "604018b6032f4901a6749b7099091cb6": {
          "model_module": "@jupyter-widgets/controls",
          "model_name": "DescriptionStyleModel",
          "model_module_version": "1.5.0",
          "state": {
            "_model_module": "@jupyter-widgets/controls",
            "_model_module_version": "1.5.0",
            "_model_name": "DescriptionStyleModel",
            "_view_count": null,
            "_view_module": "@jupyter-widgets/base",
            "_view_module_version": "1.2.0",
            "_view_name": "StyleView",
            "description_width": ""
          }
        },
        "b6a39742d0f54d029ddbfb2717190aad": {
          "model_module": "@jupyter-widgets/base",
          "model_name": "LayoutModel",
          "model_module_version": "1.2.0",
          "state": {
            "_model_module": "@jupyter-widgets/base",
            "_model_module_version": "1.2.0",
            "_model_name": "LayoutModel",
            "_view_count": null,
            "_view_module": "@jupyter-widgets/base",
            "_view_module_version": "1.2.0",
            "_view_name": "LayoutView",
            "align_content": null,
            "align_items": null,
            "align_self": null,
            "border": null,
            "bottom": null,
            "display": null,
            "flex": null,
            "flex_flow": null,
            "grid_area": null,
            "grid_auto_columns": null,
            "grid_auto_flow": null,
            "grid_auto_rows": null,
            "grid_column": null,
            "grid_gap": null,
            "grid_row": null,
            "grid_template_areas": null,
            "grid_template_columns": null,
            "grid_template_rows": null,
            "height": null,
            "justify_content": null,
            "justify_items": null,
            "left": null,
            "margin": null,
            "max_height": null,
            "max_width": null,
            "min_height": null,
            "min_width": null,
            "object_fit": null,
            "object_position": null,
            "order": null,
            "overflow": null,
            "overflow_x": null,
            "overflow_y": null,
            "padding": null,
            "right": null,
            "top": null,
            "visibility": null,
            "width": null
          }
        },
        "c395f00296214d968a0c10adf89f2ce7": {
          "model_module": "@jupyter-widgets/controls",
          "model_name": "ProgressStyleModel",
          "model_module_version": "1.5.0",
          "state": {
            "_model_module": "@jupyter-widgets/controls",
            "_model_module_version": "1.5.0",
            "_model_name": "ProgressStyleModel",
            "_view_count": null,
            "_view_module": "@jupyter-widgets/base",
            "_view_module_version": "1.2.0",
            "_view_name": "StyleView",
            "bar_color": null,
            "description_width": ""
          }
        },
        "b3d68eeac676488186f3b7c6ea1a69b7": {
          "model_module": "@jupyter-widgets/base",
          "model_name": "LayoutModel",
          "model_module_version": "1.2.0",
          "state": {
            "_model_module": "@jupyter-widgets/base",
            "_model_module_version": "1.2.0",
            "_model_name": "LayoutModel",
            "_view_count": null,
            "_view_module": "@jupyter-widgets/base",
            "_view_module_version": "1.2.0",
            "_view_name": "LayoutView",
            "align_content": null,
            "align_items": null,
            "align_self": null,
            "border": null,
            "bottom": null,
            "display": null,
            "flex": null,
            "flex_flow": null,
            "grid_area": null,
            "grid_auto_columns": null,
            "grid_auto_flow": null,
            "grid_auto_rows": null,
            "grid_column": null,
            "grid_gap": null,
            "grid_row": null,
            "grid_template_areas": null,
            "grid_template_columns": null,
            "grid_template_rows": null,
            "height": null,
            "justify_content": null,
            "justify_items": null,
            "left": null,
            "margin": null,
            "max_height": null,
            "max_width": null,
            "min_height": null,
            "min_width": null,
            "object_fit": null,
            "object_position": null,
            "order": null,
            "overflow": null,
            "overflow_x": null,
            "overflow_y": null,
            "padding": null,
            "right": null,
            "top": null,
            "visibility": null,
            "width": null
          }
        },
        "3e4cb44a6b9544b4baef59a3bb0e173e": {
          "model_module": "@jupyter-widgets/controls",
          "model_name": "DescriptionStyleModel",
          "model_module_version": "1.5.0",
          "state": {
            "_model_module": "@jupyter-widgets/controls",
            "_model_module_version": "1.5.0",
            "_model_name": "DescriptionStyleModel",
            "_view_count": null,
            "_view_module": "@jupyter-widgets/base",
            "_view_module_version": "1.2.0",
            "_view_name": "StyleView",
            "description_width": ""
          }
        },
        "11f2f2bf7c574a43b97a8fbf48231730": {
          "model_module": "@jupyter-widgets/controls",
          "model_name": "HBoxModel",
          "model_module_version": "1.5.0",
          "state": {
            "_dom_classes": [],
            "_model_module": "@jupyter-widgets/controls",
            "_model_module_version": "1.5.0",
            "_model_name": "HBoxModel",
            "_view_count": null,
            "_view_module": "@jupyter-widgets/controls",
            "_view_module_version": "1.5.0",
            "_view_name": "HBoxView",
            "box_style": "",
            "children": [
              "IPY_MODEL_6a240dfa711c4d89a9a1a7b0c8d30e00",
              "IPY_MODEL_4e3c012ff2714fa59f9392a1f90e6738",
              "IPY_MODEL_ffd5b48b7fa248699121023ab717415b"
            ],
            "layout": "IPY_MODEL_e32c4c0b49be4c38887e3c04a7210366"
          }
        },
        "6a240dfa711c4d89a9a1a7b0c8d30e00": {
          "model_module": "@jupyter-widgets/controls",
          "model_name": "HTMLModel",
          "model_module_version": "1.5.0",
          "state": {
            "_dom_classes": [],
            "_model_module": "@jupyter-widgets/controls",
            "_model_module_version": "1.5.0",
            "_model_name": "HTMLModel",
            "_view_count": null,
            "_view_module": "@jupyter-widgets/controls",
            "_view_module_version": "1.5.0",
            "_view_name": "HTMLView",
            "description": "",
            "description_tooltip": null,
            "layout": "IPY_MODEL_cc6313604e2946d9b5bb8990d0cf5a60",
            "placeholder": "​",
            "style": "IPY_MODEL_56e70f4e200d40619e9fb46e206aaa7e",
            "value": "model.safetensors: 100%"
          }
        },
        "4e3c012ff2714fa59f9392a1f90e6738": {
          "model_module": "@jupyter-widgets/controls",
          "model_name": "FloatProgressModel",
          "model_module_version": "1.5.0",
          "state": {
            "_dom_classes": [],
            "_model_module": "@jupyter-widgets/controls",
            "_model_module_version": "1.5.0",
            "_model_name": "FloatProgressModel",
            "_view_count": null,
            "_view_module": "@jupyter-widgets/controls",
            "_view_module_version": "1.5.0",
            "_view_name": "ProgressView",
            "bar_style": "success",
            "description": "",
            "description_tooltip": null,
            "layout": "IPY_MODEL_1f3cb40a525345c5bf3f0f8c6d39f1f4",
            "max": 1334400964,
            "min": 0,
            "orientation": "horizontal",
            "style": "IPY_MODEL_dd3244fb04c949cdb9f28fda3d93b07a",
            "value": 1334400964
          }
        },
        "ffd5b48b7fa248699121023ab717415b": {
          "model_module": "@jupyter-widgets/controls",
          "model_name": "HTMLModel",
          "model_module_version": "1.5.0",
          "state": {
            "_dom_classes": [],
            "_model_module": "@jupyter-widgets/controls",
            "_model_module_version": "1.5.0",
            "_model_name": "HTMLModel",
            "_view_count": null,
            "_view_module": "@jupyter-widgets/controls",
            "_view_module_version": "1.5.0",
            "_view_name": "HTMLView",
            "description": "",
            "description_tooltip": null,
            "layout": "IPY_MODEL_2f12332e55894b80abc081c4d17e1f25",
            "placeholder": "​",
            "style": "IPY_MODEL_5986a76020714c4b9a060d94d177a6f9",
            "value": " 1.33G/1.33G [00:16&lt;00:00, 138MB/s]"
          }
        },
        "e32c4c0b49be4c38887e3c04a7210366": {
          "model_module": "@jupyter-widgets/base",
          "model_name": "LayoutModel",
          "model_module_version": "1.2.0",
          "state": {
            "_model_module": "@jupyter-widgets/base",
            "_model_module_version": "1.2.0",
            "_model_name": "LayoutModel",
            "_view_count": null,
            "_view_module": "@jupyter-widgets/base",
            "_view_module_version": "1.2.0",
            "_view_name": "LayoutView",
            "align_content": null,
            "align_items": null,
            "align_self": null,
            "border": null,
            "bottom": null,
            "display": null,
            "flex": null,
            "flex_flow": null,
            "grid_area": null,
            "grid_auto_columns": null,
            "grid_auto_flow": null,
            "grid_auto_rows": null,
            "grid_column": null,
            "grid_gap": null,
            "grid_row": null,
            "grid_template_areas": null,
            "grid_template_columns": null,
            "grid_template_rows": null,
            "height": null,
            "justify_content": null,
            "justify_items": null,
            "left": null,
            "margin": null,
            "max_height": null,
            "max_width": null,
            "min_height": null,
            "min_width": null,
            "object_fit": null,
            "object_position": null,
            "order": null,
            "overflow": null,
            "overflow_x": null,
            "overflow_y": null,
            "padding": null,
            "right": null,
            "top": null,
            "visibility": null,
            "width": null
          }
        },
        "cc6313604e2946d9b5bb8990d0cf5a60": {
          "model_module": "@jupyter-widgets/base",
          "model_name": "LayoutModel",
          "model_module_version": "1.2.0",
          "state": {
            "_model_module": "@jupyter-widgets/base",
            "_model_module_version": "1.2.0",
            "_model_name": "LayoutModel",
            "_view_count": null,
            "_view_module": "@jupyter-widgets/base",
            "_view_module_version": "1.2.0",
            "_view_name": "LayoutView",
            "align_content": null,
            "align_items": null,
            "align_self": null,
            "border": null,
            "bottom": null,
            "display": null,
            "flex": null,
            "flex_flow": null,
            "grid_area": null,
            "grid_auto_columns": null,
            "grid_auto_flow": null,
            "grid_auto_rows": null,
            "grid_column": null,
            "grid_gap": null,
            "grid_row": null,
            "grid_template_areas": null,
            "grid_template_columns": null,
            "grid_template_rows": null,
            "height": null,
            "justify_content": null,
            "justify_items": null,
            "left": null,
            "margin": null,
            "max_height": null,
            "max_width": null,
            "min_height": null,
            "min_width": null,
            "object_fit": null,
            "object_position": null,
            "order": null,
            "overflow": null,
            "overflow_x": null,
            "overflow_y": null,
            "padding": null,
            "right": null,
            "top": null,
            "visibility": null,
            "width": null
          }
        },
        "56e70f4e200d40619e9fb46e206aaa7e": {
          "model_module": "@jupyter-widgets/controls",
          "model_name": "DescriptionStyleModel",
          "model_module_version": "1.5.0",
          "state": {
            "_model_module": "@jupyter-widgets/controls",
            "_model_module_version": "1.5.0",
            "_model_name": "DescriptionStyleModel",
            "_view_count": null,
            "_view_module": "@jupyter-widgets/base",
            "_view_module_version": "1.2.0",
            "_view_name": "StyleView",
            "description_width": ""
          }
        },
        "1f3cb40a525345c5bf3f0f8c6d39f1f4": {
          "model_module": "@jupyter-widgets/base",
          "model_name": "LayoutModel",
          "model_module_version": "1.2.0",
          "state": {
            "_model_module": "@jupyter-widgets/base",
            "_model_module_version": "1.2.0",
            "_model_name": "LayoutModel",
            "_view_count": null,
            "_view_module": "@jupyter-widgets/base",
            "_view_module_version": "1.2.0",
            "_view_name": "LayoutView",
            "align_content": null,
            "align_items": null,
            "align_self": null,
            "border": null,
            "bottom": null,
            "display": null,
            "flex": null,
            "flex_flow": null,
            "grid_area": null,
            "grid_auto_columns": null,
            "grid_auto_flow": null,
            "grid_auto_rows": null,
            "grid_column": null,
            "grid_gap": null,
            "grid_row": null,
            "grid_template_areas": null,
            "grid_template_columns": null,
            "grid_template_rows": null,
            "height": null,
            "justify_content": null,
            "justify_items": null,
            "left": null,
            "margin": null,
            "max_height": null,
            "max_width": null,
            "min_height": null,
            "min_width": null,
            "object_fit": null,
            "object_position": null,
            "order": null,
            "overflow": null,
            "overflow_x": null,
            "overflow_y": null,
            "padding": null,
            "right": null,
            "top": null,
            "visibility": null,
            "width": null
          }
        },
        "dd3244fb04c949cdb9f28fda3d93b07a": {
          "model_module": "@jupyter-widgets/controls",
          "model_name": "ProgressStyleModel",
          "model_module_version": "1.5.0",
          "state": {
            "_model_module": "@jupyter-widgets/controls",
            "_model_module_version": "1.5.0",
            "_model_name": "ProgressStyleModel",
            "_view_count": null,
            "_view_module": "@jupyter-widgets/base",
            "_view_module_version": "1.2.0",
            "_view_name": "StyleView",
            "bar_color": null,
            "description_width": ""
          }
        },
        "2f12332e55894b80abc081c4d17e1f25": {
          "model_module": "@jupyter-widgets/base",
          "model_name": "LayoutModel",
          "model_module_version": "1.2.0",
          "state": {
            "_model_module": "@jupyter-widgets/base",
            "_model_module_version": "1.2.0",
            "_model_name": "LayoutModel",
            "_view_count": null,
            "_view_module": "@jupyter-widgets/base",
            "_view_module_version": "1.2.0",
            "_view_name": "LayoutView",
            "align_content": null,
            "align_items": null,
            "align_self": null,
            "border": null,
            "bottom": null,
            "display": null,
            "flex": null,
            "flex_flow": null,
            "grid_area": null,
            "grid_auto_columns": null,
            "grid_auto_flow": null,
            "grid_auto_rows": null,
            "grid_column": null,
            "grid_gap": null,
            "grid_row": null,
            "grid_template_areas": null,
            "grid_template_columns": null,
            "grid_template_rows": null,
            "height": null,
            "justify_content": null,
            "justify_items": null,
            "left": null,
            "margin": null,
            "max_height": null,
            "max_width": null,
            "min_height": null,
            "min_width": null,
            "object_fit": null,
            "object_position": null,
            "order": null,
            "overflow": null,
            "overflow_x": null,
            "overflow_y": null,
            "padding": null,
            "right": null,
            "top": null,
            "visibility": null,
            "width": null
          }
        },
        "5986a76020714c4b9a060d94d177a6f9": {
          "model_module": "@jupyter-widgets/controls",
          "model_name": "DescriptionStyleModel",
          "model_module_version": "1.5.0",
          "state": {
            "_model_module": "@jupyter-widgets/controls",
            "_model_module_version": "1.5.0",
            "_model_name": "DescriptionStyleModel",
            "_view_count": null,
            "_view_module": "@jupyter-widgets/base",
            "_view_module_version": "1.2.0",
            "_view_name": "StyleView",
            "description_width": ""
          }
        },
        "d224c9434d4c4b8992849e26888fb48f": {
          "model_module": "@jupyter-widgets/controls",
          "model_name": "HBoxModel",
          "model_module_version": "1.5.0",
          "state": {
            "_dom_classes": [],
            "_model_module": "@jupyter-widgets/controls",
            "_model_module_version": "1.5.0",
            "_model_name": "HBoxModel",
            "_view_count": null,
            "_view_module": "@jupyter-widgets/controls",
            "_view_module_version": "1.5.0",
            "_view_name": "HBoxView",
            "box_style": "",
            "children": [
              "IPY_MODEL_137837acdc3a41c5b856d9e6c9a11dae",
              "IPY_MODEL_0aee3fd6a6ac4ff7a9d433b757732b8d",
              "IPY_MODEL_811381ed963f4fcb8bb23cf373e933cc"
            ],
            "layout": "IPY_MODEL_2cb16f895693420d9ba3e5ec61047634"
          }
        },
        "137837acdc3a41c5b856d9e6c9a11dae": {
          "model_module": "@jupyter-widgets/controls",
          "model_name": "HTMLModel",
          "model_module_version": "1.5.0",
          "state": {
            "_dom_classes": [],
            "_model_module": "@jupyter-widgets/controls",
            "_model_module_version": "1.5.0",
            "_model_name": "HTMLModel",
            "_view_count": null,
            "_view_module": "@jupyter-widgets/controls",
            "_view_module_version": "1.5.0",
            "_view_name": "HTMLView",
            "description": "",
            "description_tooltip": null,
            "layout": "IPY_MODEL_3678a14f27794bc59810f94ffb4df1fa",
            "placeholder": "​",
            "style": "IPY_MODEL_e2fb70b158d4447f95a1e096af656c7e",
            "value": "tokenizer_config.json: 100%"
          }
        },
        "0aee3fd6a6ac4ff7a9d433b757732b8d": {
          "model_module": "@jupyter-widgets/controls",
          "model_name": "FloatProgressModel",
          "model_module_version": "1.5.0",
          "state": {
            "_dom_classes": [],
            "_model_module": "@jupyter-widgets/controls",
            "_model_module_version": "1.5.0",
            "_model_name": "FloatProgressModel",
            "_view_count": null,
            "_view_module": "@jupyter-widgets/controls",
            "_view_module_version": "1.5.0",
            "_view_name": "ProgressView",
            "bar_style": "success",
            "description": "",
            "description_tooltip": null,
            "layout": "IPY_MODEL_12242639ed9f48c3915364725ddfaf92",
            "max": 60,
            "min": 0,
            "orientation": "horizontal",
            "style": "IPY_MODEL_7ec1f8ef18c44beb940677073f6d044c",
            "value": 60
          }
        },
        "811381ed963f4fcb8bb23cf373e933cc": {
          "model_module": "@jupyter-widgets/controls",
          "model_name": "HTMLModel",
          "model_module_version": "1.5.0",
          "state": {
            "_dom_classes": [],
            "_model_module": "@jupyter-widgets/controls",
            "_model_module_version": "1.5.0",
            "_model_name": "HTMLModel",
            "_view_count": null,
            "_view_module": "@jupyter-widgets/controls",
            "_view_module_version": "1.5.0",
            "_view_name": "HTMLView",
            "description": "",
            "description_tooltip": null,
            "layout": "IPY_MODEL_52a9bd66a08244f48b30184661199d93",
            "placeholder": "​",
            "style": "IPY_MODEL_84e2e355f84041029ab3507e0c5eaa15",
            "value": " 60.0/60.0 [00:00&lt;00:00, 3.01kB/s]"
          }
        },
        "2cb16f895693420d9ba3e5ec61047634": {
          "model_module": "@jupyter-widgets/base",
          "model_name": "LayoutModel",
          "model_module_version": "1.2.0",
          "state": {
            "_model_module": "@jupyter-widgets/base",
            "_model_module_version": "1.2.0",
            "_model_name": "LayoutModel",
            "_view_count": null,
            "_view_module": "@jupyter-widgets/base",
            "_view_module_version": "1.2.0",
            "_view_name": "LayoutView",
            "align_content": null,
            "align_items": null,
            "align_self": null,
            "border": null,
            "bottom": null,
            "display": null,
            "flex": null,
            "flex_flow": null,
            "grid_area": null,
            "grid_auto_columns": null,
            "grid_auto_flow": null,
            "grid_auto_rows": null,
            "grid_column": null,
            "grid_gap": null,
            "grid_row": null,
            "grid_template_areas": null,
            "grid_template_columns": null,
            "grid_template_rows": null,
            "height": null,
            "justify_content": null,
            "justify_items": null,
            "left": null,
            "margin": null,
            "max_height": null,
            "max_width": null,
            "min_height": null,
            "min_width": null,
            "object_fit": null,
            "object_position": null,
            "order": null,
            "overflow": null,
            "overflow_x": null,
            "overflow_y": null,
            "padding": null,
            "right": null,
            "top": null,
            "visibility": null,
            "width": null
          }
        },
        "3678a14f27794bc59810f94ffb4df1fa": {
          "model_module": "@jupyter-widgets/base",
          "model_name": "LayoutModel",
          "model_module_version": "1.2.0",
          "state": {
            "_model_module": "@jupyter-widgets/base",
            "_model_module_version": "1.2.0",
            "_model_name": "LayoutModel",
            "_view_count": null,
            "_view_module": "@jupyter-widgets/base",
            "_view_module_version": "1.2.0",
            "_view_name": "LayoutView",
            "align_content": null,
            "align_items": null,
            "align_self": null,
            "border": null,
            "bottom": null,
            "display": null,
            "flex": null,
            "flex_flow": null,
            "grid_area": null,
            "grid_auto_columns": null,
            "grid_auto_flow": null,
            "grid_auto_rows": null,
            "grid_column": null,
            "grid_gap": null,
            "grid_row": null,
            "grid_template_areas": null,
            "grid_template_columns": null,
            "grid_template_rows": null,
            "height": null,
            "justify_content": null,
            "justify_items": null,
            "left": null,
            "margin": null,
            "max_height": null,
            "max_width": null,
            "min_height": null,
            "min_width": null,
            "object_fit": null,
            "object_position": null,
            "order": null,
            "overflow": null,
            "overflow_x": null,
            "overflow_y": null,
            "padding": null,
            "right": null,
            "top": null,
            "visibility": null,
            "width": null
          }
        },
        "e2fb70b158d4447f95a1e096af656c7e": {
          "model_module": "@jupyter-widgets/controls",
          "model_name": "DescriptionStyleModel",
          "model_module_version": "1.5.0",
          "state": {
            "_model_module": "@jupyter-widgets/controls",
            "_model_module_version": "1.5.0",
            "_model_name": "DescriptionStyleModel",
            "_view_count": null,
            "_view_module": "@jupyter-widgets/base",
            "_view_module_version": "1.2.0",
            "_view_name": "StyleView",
            "description_width": ""
          }
        },
        "12242639ed9f48c3915364725ddfaf92": {
          "model_module": "@jupyter-widgets/base",
          "model_name": "LayoutModel",
          "model_module_version": "1.2.0",
          "state": {
            "_model_module": "@jupyter-widgets/base",
            "_model_module_version": "1.2.0",
            "_model_name": "LayoutModel",
            "_view_count": null,
            "_view_module": "@jupyter-widgets/base",
            "_view_module_version": "1.2.0",
            "_view_name": "LayoutView",
            "align_content": null,
            "align_items": null,
            "align_self": null,
            "border": null,
            "bottom": null,
            "display": null,
            "flex": null,
            "flex_flow": null,
            "grid_area": null,
            "grid_auto_columns": null,
            "grid_auto_flow": null,
            "grid_auto_rows": null,
            "grid_column": null,
            "grid_gap": null,
            "grid_row": null,
            "grid_template_areas": null,
            "grid_template_columns": null,
            "grid_template_rows": null,
            "height": null,
            "justify_content": null,
            "justify_items": null,
            "left": null,
            "margin": null,
            "max_height": null,
            "max_width": null,
            "min_height": null,
            "min_width": null,
            "object_fit": null,
            "object_position": null,
            "order": null,
            "overflow": null,
            "overflow_x": null,
            "overflow_y": null,
            "padding": null,
            "right": null,
            "top": null,
            "visibility": null,
            "width": null
          }
        },
        "7ec1f8ef18c44beb940677073f6d044c": {
          "model_module": "@jupyter-widgets/controls",
          "model_name": "ProgressStyleModel",
          "model_module_version": "1.5.0",
          "state": {
            "_model_module": "@jupyter-widgets/controls",
            "_model_module_version": "1.5.0",
            "_model_name": "ProgressStyleModel",
            "_view_count": null,
            "_view_module": "@jupyter-widgets/base",
            "_view_module_version": "1.2.0",
            "_view_name": "StyleView",
            "bar_color": null,
            "description_width": ""
          }
        },
        "52a9bd66a08244f48b30184661199d93": {
          "model_module": "@jupyter-widgets/base",
          "model_name": "LayoutModel",
          "model_module_version": "1.2.0",
          "state": {
            "_model_module": "@jupyter-widgets/base",
            "_model_module_version": "1.2.0",
            "_model_name": "LayoutModel",
            "_view_count": null,
            "_view_module": "@jupyter-widgets/base",
            "_view_module_version": "1.2.0",
            "_view_name": "LayoutView",
            "align_content": null,
            "align_items": null,
            "align_self": null,
            "border": null,
            "bottom": null,
            "display": null,
            "flex": null,
            "flex_flow": null,
            "grid_area": null,
            "grid_auto_columns": null,
            "grid_auto_flow": null,
            "grid_auto_rows": null,
            "grid_column": null,
            "grid_gap": null,
            "grid_row": null,
            "grid_template_areas": null,
            "grid_template_columns": null,
            "grid_template_rows": null,
            "height": null,
            "justify_content": null,
            "justify_items": null,
            "left": null,
            "margin": null,
            "max_height": null,
            "max_width": null,
            "min_height": null,
            "min_width": null,
            "object_fit": null,
            "object_position": null,
            "order": null,
            "overflow": null,
            "overflow_x": null,
            "overflow_y": null,
            "padding": null,
            "right": null,
            "top": null,
            "visibility": null,
            "width": null
          }
        },
        "84e2e355f84041029ab3507e0c5eaa15": {
          "model_module": "@jupyter-widgets/controls",
          "model_name": "DescriptionStyleModel",
          "model_module_version": "1.5.0",
          "state": {
            "_model_module": "@jupyter-widgets/controls",
            "_model_module_version": "1.5.0",
            "_model_name": "DescriptionStyleModel",
            "_view_count": null,
            "_view_module": "@jupyter-widgets/base",
            "_view_module_version": "1.2.0",
            "_view_name": "StyleView",
            "description_width": ""
          }
        },
        "ee8f8e5bb7ed4a828ce31bba3b78105b": {
          "model_module": "@jupyter-widgets/controls",
          "model_name": "HBoxModel",
          "model_module_version": "1.5.0",
          "state": {
            "_dom_classes": [],
            "_model_module": "@jupyter-widgets/controls",
            "_model_module_version": "1.5.0",
            "_model_name": "HBoxModel",
            "_view_count": null,
            "_view_module": "@jupyter-widgets/controls",
            "_view_module_version": "1.5.0",
            "_view_name": "HBoxView",
            "box_style": "",
            "children": [
              "IPY_MODEL_c693292089f34f8c816d7e5af41e80ac",
              "IPY_MODEL_ea93922edca94eb2b85ff309cb92baca",
              "IPY_MODEL_dc1aa74c614f49eaaf353a406dbd2eba"
            ],
            "layout": "IPY_MODEL_378f0de5b5ee44e5b855116d730d73ed"
          }
        },
        "c693292089f34f8c816d7e5af41e80ac": {
          "model_module": "@jupyter-widgets/controls",
          "model_name": "HTMLModel",
          "model_module_version": "1.5.0",
          "state": {
            "_dom_classes": [],
            "_model_module": "@jupyter-widgets/controls",
            "_model_module_version": "1.5.0",
            "_model_name": "HTMLModel",
            "_view_count": null,
            "_view_module": "@jupyter-widgets/controls",
            "_view_module_version": "1.5.0",
            "_view_name": "HTMLView",
            "description": "",
            "description_tooltip": null,
            "layout": "IPY_MODEL_c9a771ad978742afac89f18d4f12840a",
            "placeholder": "​",
            "style": "IPY_MODEL_19628093f457486d94f348e3ab222c57",
            "value": "vocab.txt: 100%"
          }
        },
        "ea93922edca94eb2b85ff309cb92baca": {
          "model_module": "@jupyter-widgets/controls",
          "model_name": "FloatProgressModel",
          "model_module_version": "1.5.0",
          "state": {
            "_dom_classes": [],
            "_model_module": "@jupyter-widgets/controls",
            "_model_module_version": "1.5.0",
            "_model_name": "FloatProgressModel",
            "_view_count": null,
            "_view_module": "@jupyter-widgets/controls",
            "_view_module_version": "1.5.0",
            "_view_name": "ProgressView",
            "bar_style": "success",
            "description": "",
            "description_tooltip": null,
            "layout": "IPY_MODEL_b962fef2d2084b1ebe753e7bd3dcd32c",
            "max": 213450,
            "min": 0,
            "orientation": "horizontal",
            "style": "IPY_MODEL_ef82ffd676194ca5b681cdb7cd95056b",
            "value": 213450
          }
        },
        "dc1aa74c614f49eaaf353a406dbd2eba": {
          "model_module": "@jupyter-widgets/controls",
          "model_name": "HTMLModel",
          "model_module_version": "1.5.0",
          "state": {
            "_dom_classes": [],
            "_model_module": "@jupyter-widgets/controls",
            "_model_module_version": "1.5.0",
            "_model_name": "HTMLModel",
            "_view_count": null,
            "_view_module": "@jupyter-widgets/controls",
            "_view_module_version": "1.5.0",
            "_view_name": "HTMLView",
            "description": "",
            "description_tooltip": null,
            "layout": "IPY_MODEL_527ec42760aa49ab98137acb3390694d",
            "placeholder": "​",
            "style": "IPY_MODEL_e63712f8b17a4c2ba5b97b9d23b3d288",
            "value": " 213k/213k [00:00&lt;00:00, 5.12MB/s]"
          }
        },
        "378f0de5b5ee44e5b855116d730d73ed": {
          "model_module": "@jupyter-widgets/base",
          "model_name": "LayoutModel",
          "model_module_version": "1.2.0",
          "state": {
            "_model_module": "@jupyter-widgets/base",
            "_model_module_version": "1.2.0",
            "_model_name": "LayoutModel",
            "_view_count": null,
            "_view_module": "@jupyter-widgets/base",
            "_view_module_version": "1.2.0",
            "_view_name": "LayoutView",
            "align_content": null,
            "align_items": null,
            "align_self": null,
            "border": null,
            "bottom": null,
            "display": null,
            "flex": null,
            "flex_flow": null,
            "grid_area": null,
            "grid_auto_columns": null,
            "grid_auto_flow": null,
            "grid_auto_rows": null,
            "grid_column": null,
            "grid_gap": null,
            "grid_row": null,
            "grid_template_areas": null,
            "grid_template_columns": null,
            "grid_template_rows": null,
            "height": null,
            "justify_content": null,
            "justify_items": null,
            "left": null,
            "margin": null,
            "max_height": null,
            "max_width": null,
            "min_height": null,
            "min_width": null,
            "object_fit": null,
            "object_position": null,
            "order": null,
            "overflow": null,
            "overflow_x": null,
            "overflow_y": null,
            "padding": null,
            "right": null,
            "top": null,
            "visibility": null,
            "width": null
          }
        },
        "c9a771ad978742afac89f18d4f12840a": {
          "model_module": "@jupyter-widgets/base",
          "model_name": "LayoutModel",
          "model_module_version": "1.2.0",
          "state": {
            "_model_module": "@jupyter-widgets/base",
            "_model_module_version": "1.2.0",
            "_model_name": "LayoutModel",
            "_view_count": null,
            "_view_module": "@jupyter-widgets/base",
            "_view_module_version": "1.2.0",
            "_view_name": "LayoutView",
            "align_content": null,
            "align_items": null,
            "align_self": null,
            "border": null,
            "bottom": null,
            "display": null,
            "flex": null,
            "flex_flow": null,
            "grid_area": null,
            "grid_auto_columns": null,
            "grid_auto_flow": null,
            "grid_auto_rows": null,
            "grid_column": null,
            "grid_gap": null,
            "grid_row": null,
            "grid_template_areas": null,
            "grid_template_columns": null,
            "grid_template_rows": null,
            "height": null,
            "justify_content": null,
            "justify_items": null,
            "left": null,
            "margin": null,
            "max_height": null,
            "max_width": null,
            "min_height": null,
            "min_width": null,
            "object_fit": null,
            "object_position": null,
            "order": null,
            "overflow": null,
            "overflow_x": null,
            "overflow_y": null,
            "padding": null,
            "right": null,
            "top": null,
            "visibility": null,
            "width": null
          }
        },
        "19628093f457486d94f348e3ab222c57": {
          "model_module": "@jupyter-widgets/controls",
          "model_name": "DescriptionStyleModel",
          "model_module_version": "1.5.0",
          "state": {
            "_model_module": "@jupyter-widgets/controls",
            "_model_module_version": "1.5.0",
            "_model_name": "DescriptionStyleModel",
            "_view_count": null,
            "_view_module": "@jupyter-widgets/base",
            "_view_module_version": "1.2.0",
            "_view_name": "StyleView",
            "description_width": ""
          }
        },
        "b962fef2d2084b1ebe753e7bd3dcd32c": {
          "model_module": "@jupyter-widgets/base",
          "model_name": "LayoutModel",
          "model_module_version": "1.2.0",
          "state": {
            "_model_module": "@jupyter-widgets/base",
            "_model_module_version": "1.2.0",
            "_model_name": "LayoutModel",
            "_view_count": null,
            "_view_module": "@jupyter-widgets/base",
            "_view_module_version": "1.2.0",
            "_view_name": "LayoutView",
            "align_content": null,
            "align_items": null,
            "align_self": null,
            "border": null,
            "bottom": null,
            "display": null,
            "flex": null,
            "flex_flow": null,
            "grid_area": null,
            "grid_auto_columns": null,
            "grid_auto_flow": null,
            "grid_auto_rows": null,
            "grid_column": null,
            "grid_gap": null,
            "grid_row": null,
            "grid_template_areas": null,
            "grid_template_columns": null,
            "grid_template_rows": null,
            "height": null,
            "justify_content": null,
            "justify_items": null,
            "left": null,
            "margin": null,
            "max_height": null,
            "max_width": null,
            "min_height": null,
            "min_width": null,
            "object_fit": null,
            "object_position": null,
            "order": null,
            "overflow": null,
            "overflow_x": null,
            "overflow_y": null,
            "padding": null,
            "right": null,
            "top": null,
            "visibility": null,
            "width": null
          }
        },
        "ef82ffd676194ca5b681cdb7cd95056b": {
          "model_module": "@jupyter-widgets/controls",
          "model_name": "ProgressStyleModel",
          "model_module_version": "1.5.0",
          "state": {
            "_model_module": "@jupyter-widgets/controls",
            "_model_module_version": "1.5.0",
            "_model_name": "ProgressStyleModel",
            "_view_count": null,
            "_view_module": "@jupyter-widgets/base",
            "_view_module_version": "1.2.0",
            "_view_name": "StyleView",
            "bar_color": null,
            "description_width": ""
          }
        },
        "527ec42760aa49ab98137acb3390694d": {
          "model_module": "@jupyter-widgets/base",
          "model_name": "LayoutModel",
          "model_module_version": "1.2.0",
          "state": {
            "_model_module": "@jupyter-widgets/base",
            "_model_module_version": "1.2.0",
            "_model_name": "LayoutModel",
            "_view_count": null,
            "_view_module": "@jupyter-widgets/base",
            "_view_module_version": "1.2.0",
            "_view_name": "LayoutView",
            "align_content": null,
            "align_items": null,
            "align_self": null,
            "border": null,
            "bottom": null,
            "display": null,
            "flex": null,
            "flex_flow": null,
            "grid_area": null,
            "grid_auto_columns": null,
            "grid_auto_flow": null,
            "grid_auto_rows": null,
            "grid_column": null,
            "grid_gap": null,
            "grid_row": null,
            "grid_template_areas": null,
            "grid_template_columns": null,
            "grid_template_rows": null,
            "height": null,
            "justify_content": null,
            "justify_items": null,
            "left": null,
            "margin": null,
            "max_height": null,
            "max_width": null,
            "min_height": null,
            "min_width": null,
            "object_fit": null,
            "object_position": null,
            "order": null,
            "overflow": null,
            "overflow_x": null,
            "overflow_y": null,
            "padding": null,
            "right": null,
            "top": null,
            "visibility": null,
            "width": null
          }
        },
        "e63712f8b17a4c2ba5b97b9d23b3d288": {
          "model_module": "@jupyter-widgets/controls",
          "model_name": "DescriptionStyleModel",
          "model_module_version": "1.5.0",
          "state": {
            "_model_module": "@jupyter-widgets/controls",
            "_model_module_version": "1.5.0",
            "_model_name": "DescriptionStyleModel",
            "_view_count": null,
            "_view_module": "@jupyter-widgets/base",
            "_view_module_version": "1.2.0",
            "_view_name": "StyleView",
            "description_width": ""
          }
        }
      }
    }
  },
  "cells": [
    {
      "cell_type": "markdown",
      "metadata": {
        "id": "view-in-github",
        "colab_type": "text"
      },
      "source": [
        "<a href=\"https://colab.research.google.com/github/mk7890/Resume-Parsing-System/blob/main/ResumeParser_BERT.ipynb\" target=\"_parent\"><img src=\"https://colab.research.google.com/assets/colab-badge.svg\" alt=\"Open In Colab\"/></a>"
      ]
    },
    {
      "cell_type": "markdown",
      "source": [
        "1. Data Collection\n",
        "Collect a variety of resumes in PDF format. You'll need a diverse dataset to ensure your model can generalize well.\n",
        "\n",
        "2. Preprocessing\n",
        "Convert PDF to text: You can use libraries like PyMuPDF or pdfminer.\n",
        "\n",
        "Clean the text: Remove unnecessary characters and normalize the text.\n",
        "\n",
        "3. Feature Extraction\n",
        "Tokenization: Split the text into individual words or tokens.\n",
        "\n",
        "Named Entity Recognition (NER): Use NER to identify and classify entities in the text. Libraries like spaCy are excellent for this task.\n",
        "\n",
        "Regular Expressions: For identifying specific patterns like phone numbers and emails.\n",
        "\n",
        "4. Building the Model\n",
        "Use a pre-trained language model like BERT or fine-tune it for your specific use case.\n",
        "\n",
        "Train the model on annotated resumes where entities like name, job role, etc., are labeled.\n",
        "\n",
        "5. Model Evaluation\n",
        "Use metrics like precision, recall, and F1-score to evaluate your model's performance.\n",
        "\n",
        "6. Saving and Deployment\n",
        "Save the trained model using a library like joblib or pickle.\n",
        "\n",
        "Deploy the model using Streamlit for an interactive web application."
      ],
      "metadata": {
        "id": "ee70uGO8v5ZO"
      }
    },
    {
      "cell_type": "markdown",
      "source": [
        "# Loading Libraries"
      ],
      "metadata": {
        "id": "J0w7siczwB8r"
      }
    },
    {
      "cell_type": "code",
      "source": [
        "import pandas as pd\n",
        "import numpy as np"
      ],
      "metadata": {
        "id": "u-S7c-ySwhiB"
      },
      "execution_count": null,
      "outputs": []
    },
    {
      "cell_type": "markdown",
      "source": [
        "PDF to Text Conversion"
      ],
      "metadata": {
        "id": "2_1Mzk3FwGG-"
      }
    },
    {
      "cell_type": "code",
      "source": [
        "!pip install PyMuPDF"
      ],
      "metadata": {
        "colab": {
          "base_uri": "https://localhost:8080/"
        },
        "id": "CjG7Ed-tw4Pr",
        "outputId": "8f6c7cd4-7112-4cdd-d29d-28593a0439e2"
      },
      "execution_count": null,
      "outputs": [
        {
          "output_type": "stream",
          "name": "stdout",
          "text": [
            "Collecting PyMuPDF\n",
            "  Downloading pymupdf-1.25.3-cp39-abi3-manylinux2014_x86_64.manylinux_2_17_x86_64.whl.metadata (3.4 kB)\n",
            "Downloading pymupdf-1.25.3-cp39-abi3-manylinux2014_x86_64.manylinux_2_17_x86_64.whl (20.0 MB)\n",
            "\u001b[2K   \u001b[90m━━━━━━━━━━━━━━━━━━━━━━━━━━━━━━━━━━━━━━━━\u001b[0m \u001b[32m20.0/20.0 MB\u001b[0m \u001b[31m50.3 MB/s\u001b[0m eta \u001b[36m0:00:00\u001b[0m\n",
            "\u001b[?25hInstalling collected packages: PyMuPDF\n",
            "Successfully installed PyMuPDF-1.25.3\n"
          ]
        }
      ]
    },
    {
      "cell_type": "code",
      "source": [
        "!pip install spacy transformers pdfplumber joblib pickle5\n"
      ],
      "metadata": {
        "colab": {
          "base_uri": "https://localhost:8080/"
        },
        "collapsed": true,
        "id": "qJzzA3isC5t1",
        "outputId": "8ee9b080-5925-4ef9-d00c-0c1b7daa6a88"
      },
      "execution_count": null,
      "outputs": [
        {
          "output_type": "stream",
          "name": "stdout",
          "text": [
            "Requirement already satisfied: spacy in /usr/local/lib/python3.11/dist-packages (3.7.5)\n",
            "Requirement already satisfied: transformers in /usr/local/lib/python3.11/dist-packages (4.48.3)\n",
            "Collecting pdfplumber\n",
            "  Using cached pdfplumber-0.11.5-py3-none-any.whl.metadata (42 kB)\n",
            "Requirement already satisfied: joblib in /usr/local/lib/python3.11/dist-packages (1.4.2)\n",
            "Collecting pickle5\n",
            "  Using cached pickle5-0.0.11.tar.gz (132 kB)\n",
            "  Preparing metadata (setup.py) ... \u001b[?25l\u001b[?25hdone\n",
            "Requirement already satisfied: spacy-legacy<3.1.0,>=3.0.11 in /usr/local/lib/python3.11/dist-packages (from spacy) (3.0.12)\n",
            "Requirement already satisfied: spacy-loggers<2.0.0,>=1.0.0 in /usr/local/lib/python3.11/dist-packages (from spacy) (1.0.5)\n",
            "Requirement already satisfied: murmurhash<1.1.0,>=0.28.0 in /usr/local/lib/python3.11/dist-packages (from spacy) (1.0.12)\n",
            "Requirement already satisfied: cymem<2.1.0,>=2.0.2 in /usr/local/lib/python3.11/dist-packages (from spacy) (2.0.11)\n",
            "Requirement already satisfied: preshed<3.1.0,>=3.0.2 in /usr/local/lib/python3.11/dist-packages (from spacy) (3.0.9)\n",
            "Requirement already satisfied: thinc<8.3.0,>=8.2.2 in /usr/local/lib/python3.11/dist-packages (from spacy) (8.2.5)\n",
            "Requirement already satisfied: wasabi<1.2.0,>=0.9.1 in /usr/local/lib/python3.11/dist-packages (from spacy) (1.1.3)\n",
            "Requirement already satisfied: srsly<3.0.0,>=2.4.3 in /usr/local/lib/python3.11/dist-packages (from spacy) (2.5.1)\n",
            "Requirement already satisfied: catalogue<2.1.0,>=2.0.6 in /usr/local/lib/python3.11/dist-packages (from spacy) (2.0.10)\n",
            "Requirement already satisfied: weasel<0.5.0,>=0.1.0 in /usr/local/lib/python3.11/dist-packages (from spacy) (0.4.1)\n",
            "Requirement already satisfied: typer<1.0.0,>=0.3.0 in /usr/local/lib/python3.11/dist-packages (from spacy) (0.15.1)\n",
            "Requirement already satisfied: tqdm<5.0.0,>=4.38.0 in /usr/local/lib/python3.11/dist-packages (from spacy) (4.67.1)\n",
            "Requirement already satisfied: requests<3.0.0,>=2.13.0 in /usr/local/lib/python3.11/dist-packages (from spacy) (2.32.3)\n",
            "Requirement already satisfied: pydantic!=1.8,!=1.8.1,<3.0.0,>=1.7.4 in /usr/local/lib/python3.11/dist-packages (from spacy) (2.10.6)\n",
            "Requirement already satisfied: jinja2 in /usr/local/lib/python3.11/dist-packages (from spacy) (3.1.5)\n",
            "Requirement already satisfied: setuptools in /usr/local/lib/python3.11/dist-packages (from spacy) (75.1.0)\n",
            "Requirement already satisfied: packaging>=20.0 in /usr/local/lib/python3.11/dist-packages (from spacy) (24.2)\n",
            "Requirement already satisfied: langcodes<4.0.0,>=3.2.0 in /usr/local/lib/python3.11/dist-packages (from spacy) (3.5.0)\n",
            "Requirement already satisfied: numpy>=1.19.0 in /usr/local/lib/python3.11/dist-packages (from spacy) (1.26.4)\n",
            "Requirement already satisfied: filelock in /usr/local/lib/python3.11/dist-packages (from transformers) (3.17.0)\n",
            "Requirement already satisfied: huggingface-hub<1.0,>=0.24.0 in /usr/local/lib/python3.11/dist-packages (from transformers) (0.28.1)\n",
            "Requirement already satisfied: pyyaml>=5.1 in /usr/local/lib/python3.11/dist-packages (from transformers) (6.0.2)\n",
            "Requirement already satisfied: regex!=2019.12.17 in /usr/local/lib/python3.11/dist-packages (from transformers) (2024.11.6)\n",
            "Requirement already satisfied: tokenizers<0.22,>=0.21 in /usr/local/lib/python3.11/dist-packages (from transformers) (0.21.0)\n",
            "Requirement already satisfied: safetensors>=0.4.1 in /usr/local/lib/python3.11/dist-packages (from transformers) (0.5.2)\n",
            "Collecting pdfminer.six==20231228 (from pdfplumber)\n",
            "  Using cached pdfminer.six-20231228-py3-none-any.whl.metadata (4.2 kB)\n",
            "Requirement already satisfied: Pillow>=9.1 in /usr/local/lib/python3.11/dist-packages (from pdfplumber) (11.1.0)\n",
            "Collecting pypdfium2>=4.18.0 (from pdfplumber)\n",
            "  Using cached pypdfium2-4.30.1-py3-none-manylinux_2_17_x86_64.manylinux2014_x86_64.whl.metadata (48 kB)\n",
            "Requirement already satisfied: charset-normalizer>=2.0.0 in /usr/local/lib/python3.11/dist-packages (from pdfminer.six==20231228->pdfplumber) (3.4.1)\n",
            "Requirement already satisfied: cryptography>=36.0.0 in /usr/local/lib/python3.11/dist-packages (from pdfminer.six==20231228->pdfplumber) (43.0.3)\n",
            "Requirement already satisfied: fsspec>=2023.5.0 in /usr/local/lib/python3.11/dist-packages (from huggingface-hub<1.0,>=0.24.0->transformers) (2024.10.0)\n",
            "Requirement already satisfied: typing-extensions>=3.7.4.3 in /usr/local/lib/python3.11/dist-packages (from huggingface-hub<1.0,>=0.24.0->transformers) (4.12.2)\n",
            "Requirement already satisfied: language-data>=1.2 in /usr/local/lib/python3.11/dist-packages (from langcodes<4.0.0,>=3.2.0->spacy) (1.3.0)\n",
            "Requirement already satisfied: annotated-types>=0.6.0 in /usr/local/lib/python3.11/dist-packages (from pydantic!=1.8,!=1.8.1,<3.0.0,>=1.7.4->spacy) (0.7.0)\n",
            "Requirement already satisfied: pydantic-core==2.27.2 in /usr/local/lib/python3.11/dist-packages (from pydantic!=1.8,!=1.8.1,<3.0.0,>=1.7.4->spacy) (2.27.2)\n",
            "Requirement already satisfied: idna<4,>=2.5 in /usr/local/lib/python3.11/dist-packages (from requests<3.0.0,>=2.13.0->spacy) (3.10)\n",
            "Requirement already satisfied: urllib3<3,>=1.21.1 in /usr/local/lib/python3.11/dist-packages (from requests<3.0.0,>=2.13.0->spacy) (2.3.0)\n",
            "Requirement already satisfied: certifi>=2017.4.17 in /usr/local/lib/python3.11/dist-packages (from requests<3.0.0,>=2.13.0->spacy) (2025.1.31)\n",
            "Requirement already satisfied: blis<0.8.0,>=0.7.8 in /usr/local/lib/python3.11/dist-packages (from thinc<8.3.0,>=8.2.2->spacy) (0.7.11)\n",
            "Requirement already satisfied: confection<1.0.0,>=0.0.1 in /usr/local/lib/python3.11/dist-packages (from thinc<8.3.0,>=8.2.2->spacy) (0.1.5)\n",
            "Requirement already satisfied: click>=8.0.0 in /usr/local/lib/python3.11/dist-packages (from typer<1.0.0,>=0.3.0->spacy) (8.1.8)\n",
            "Requirement already satisfied: shellingham>=1.3.0 in /usr/local/lib/python3.11/dist-packages (from typer<1.0.0,>=0.3.0->spacy) (1.5.4)\n",
            "Requirement already satisfied: rich>=10.11.0 in /usr/local/lib/python3.11/dist-packages (from typer<1.0.0,>=0.3.0->spacy) (13.9.4)\n",
            "Requirement already satisfied: cloudpathlib<1.0.0,>=0.7.0 in /usr/local/lib/python3.11/dist-packages (from weasel<0.5.0,>=0.1.0->spacy) (0.20.0)\n",
            "Requirement already satisfied: smart-open<8.0.0,>=5.2.1 in /usr/local/lib/python3.11/dist-packages (from weasel<0.5.0,>=0.1.0->spacy) (7.1.0)\n",
            "Requirement already satisfied: MarkupSafe>=2.0 in /usr/local/lib/python3.11/dist-packages (from jinja2->spacy) (3.0.2)\n",
            "Requirement already satisfied: cffi>=1.12 in /usr/local/lib/python3.11/dist-packages (from cryptography>=36.0.0->pdfminer.six==20231228->pdfplumber) (1.17.1)\n",
            "Requirement already satisfied: marisa-trie>=1.1.0 in /usr/local/lib/python3.11/dist-packages (from language-data>=1.2->langcodes<4.0.0,>=3.2.0->spacy) (1.2.1)\n",
            "Requirement already satisfied: markdown-it-py>=2.2.0 in /usr/local/lib/python3.11/dist-packages (from rich>=10.11.0->typer<1.0.0,>=0.3.0->spacy) (3.0.0)\n",
            "Requirement already satisfied: pygments<3.0.0,>=2.13.0 in /usr/local/lib/python3.11/dist-packages (from rich>=10.11.0->typer<1.0.0,>=0.3.0->spacy) (2.18.0)\n",
            "Requirement already satisfied: wrapt in /usr/local/lib/python3.11/dist-packages (from smart-open<8.0.0,>=5.2.1->weasel<0.5.0,>=0.1.0->spacy) (1.17.2)\n",
            "Requirement already satisfied: pycparser in /usr/local/lib/python3.11/dist-packages (from cffi>=1.12->cryptography>=36.0.0->pdfminer.six==20231228->pdfplumber) (2.22)\n",
            "Requirement already satisfied: mdurl~=0.1 in /usr/local/lib/python3.11/dist-packages (from markdown-it-py>=2.2.0->rich>=10.11.0->typer<1.0.0,>=0.3.0->spacy) (0.1.2)\n",
            "Using cached pdfplumber-0.11.5-py3-none-any.whl (59 kB)\n",
            "Using cached pdfminer.six-20231228-py3-none-any.whl (5.6 MB)\n",
            "Using cached pypdfium2-4.30.1-py3-none-manylinux_2_17_x86_64.manylinux2014_x86_64.whl (2.9 MB)\n",
            "Building wheels for collected packages: pickle5\n",
            "  \u001b[1;31merror\u001b[0m: \u001b[1msubprocess-exited-with-error\u001b[0m\n",
            "  \n",
            "  \u001b[31m×\u001b[0m \u001b[32mpython setup.py bdist_wheel\u001b[0m did not run successfully.\n",
            "  \u001b[31m│\u001b[0m exit code: \u001b[1;36m1\u001b[0m\n",
            "  \u001b[31m╰─>\u001b[0m See above for output.\n",
            "  \n",
            "  \u001b[1;35mnote\u001b[0m: This error originates from a subprocess, and is likely not a problem with pip.\n",
            "  Building wheel for pickle5 (setup.py) ... \u001b[?25lerror\n",
            "\u001b[31m  ERROR: Failed building wheel for pickle5\u001b[0m\u001b[31m\n",
            "\u001b[0m\u001b[?25h  Running setup.py clean for pickle5\n",
            "Failed to build pickle5\n",
            "\u001b[31mERROR: ERROR: Failed to build installable wheels for some pyproject.toml based projects (pickle5)\u001b[0m\u001b[31m\n",
            "\u001b[0m"
          ]
        }
      ]
    },
    {
      "cell_type": "code",
      "source": [
        "!pip install pdfplumber"
      ],
      "metadata": {
        "collapsed": true,
        "colab": {
          "base_uri": "https://localhost:8080/"
        },
        "id": "f_D524fNFiJc",
        "outputId": "6856fdef-5979-4e61-fabd-15bb1f4a1e70"
      },
      "execution_count": null,
      "outputs": [
        {
          "output_type": "stream",
          "name": "stdout",
          "text": [
            "Collecting pdfplumber\n",
            "  Using cached pdfplumber-0.11.5-py3-none-any.whl.metadata (42 kB)\n",
            "Collecting pdfminer.six==20231228 (from pdfplumber)\n",
            "  Using cached pdfminer.six-20231228-py3-none-any.whl.metadata (4.2 kB)\n",
            "Requirement already satisfied: Pillow>=9.1 in /usr/local/lib/python3.11/dist-packages (from pdfplumber) (11.1.0)\n",
            "Collecting pypdfium2>=4.18.0 (from pdfplumber)\n",
            "  Using cached pypdfium2-4.30.1-py3-none-manylinux_2_17_x86_64.manylinux2014_x86_64.whl.metadata (48 kB)\n",
            "Requirement already satisfied: charset-normalizer>=2.0.0 in /usr/local/lib/python3.11/dist-packages (from pdfminer.six==20231228->pdfplumber) (3.4.1)\n",
            "Requirement already satisfied: cryptography>=36.0.0 in /usr/local/lib/python3.11/dist-packages (from pdfminer.six==20231228->pdfplumber) (43.0.3)\n",
            "Requirement already satisfied: cffi>=1.12 in /usr/local/lib/python3.11/dist-packages (from cryptography>=36.0.0->pdfminer.six==20231228->pdfplumber) (1.17.1)\n",
            "Requirement already satisfied: pycparser in /usr/local/lib/python3.11/dist-packages (from cffi>=1.12->cryptography>=36.0.0->pdfminer.six==20231228->pdfplumber) (2.22)\n",
            "Using cached pdfplumber-0.11.5-py3-none-any.whl (59 kB)\n",
            "Using cached pdfminer.six-20231228-py3-none-any.whl (5.6 MB)\n",
            "Using cached pypdfium2-4.30.1-py3-none-manylinux_2_17_x86_64.manylinux2014_x86_64.whl (2.9 MB)\n",
            "Installing collected packages: pypdfium2, pdfminer.six, pdfplumber\n",
            "Successfully installed pdfminer.six-20231228 pdfplumber-0.11.5 pypdfium2-4.30.1\n"
          ]
        }
      ]
    },
    {
      "cell_type": "code",
      "execution_count": null,
      "metadata": {
        "id": "xFdDVKlWvzCV"
      },
      "outputs": [],
      "source": [
        "import pdfplumber\n",
        "\n",
        "def extract_text_from_pdf(pdf_path):\n",
        "    text = \"\"\n",
        "    with pdfplumber.open(pdf_path) as pdf:\n",
        "        for page in pdf.pages:\n",
        "            text += page.extract_text() + \"\\n\"\n",
        "    return text.strip()\n"
      ]
    },
    {
      "cell_type": "markdown",
      "source": [
        "Data Collection & Preprocessing"
      ],
      "metadata": {
        "id": "AmYJhrXMD0XS"
      }
    },
    {
      "cell_type": "code",
      "source": [
        "# Load Skills and Job Role Data\n",
        "\n",
        "def load_keywords(file_path):\n",
        "    with open(file_path, 'r', encoding='utf-8') as file:\n",
        "        return [line.strip().lower() for line in file.readlines()]\n",
        "\n",
        "skills_list = load_keywords(\"/content/unique_skills.txt\")\n",
        "job_roles_list = load_keywords(\"/content/unique_job_roles.txt\")"
      ],
      "metadata": {
        "id": "3q_I1XtqD1oJ"
      },
      "execution_count": null,
      "outputs": []
    },
    {
      "cell_type": "markdown",
      "source": [
        "# NER (Named Entity Recognition)\n",
        "\n",
        "Fine-tune spaCy's NER model to extract required entities.\n",
        "\n",
        "Train a Custom NER Model\n",
        "\n",
        "Prepare Training Data\n",
        "\n",
        "Format: (\"Sentence text\", {\"entities\": [(start, end, \"ENTITY_TYPE\")]})\n",
        "\n",
        "Train the Model"
      ],
      "metadata": {
        "id": "S-fn2KgpwXVd"
      }
    },
    {
      "cell_type": "markdown",
      "source": [
        "# Use Pretrained BERT for Named Entity Recognition\n",
        "\n",
        "Use Hugging Face's transformers pipeline for NER."
      ],
      "metadata": {
        "id": "e9cx8pbfFteS"
      }
    },
    {
      "cell_type": "code",
      "source": [
        "from transformers import pipeline\n",
        "\n",
        "# Load the pretrained BERT NER model\n",
        "bert_ner = pipeline(\"ner\", model=\"dslim/bert-base-NER\", aggregation_strategy=\"simple\")\n",
        "\n",
        "# List of keywords that indicate a company or organization\n",
        "company_keywords = [\n",
        "    \"Solutions\", \"Institute\", \"Inc\", \"Ltd\", \"Limited\", \"Company\", \"Organization\",\n",
        "    \"Group\", \"Corporation\", \"Technologies\", \"Systems\", \"Consulting\", \"University\",\n",
        "    \"Enterprises\", \"Foundation\", \"Associates\", \"Partners\", \"Industries\"\n",
        "]\n",
        "\n",
        "def extract_entities_bert(text):\n",
        "    entities = bert_ner(text)\n",
        "    extracted_info = {\n",
        "        \"APPLICANT_NAME\": [],\n",
        "        \"COMPANY\": [],\n",
        "        \"JOB_ROLE\": [],\n",
        "        \"SKILL\": [],\n",
        "        \"EDUCATION\": [],\n",
        "        \"CERTIFICATION\": [],\n",
        "        \"YEARS_EXPERIENCE\": [],\n",
        "        \"LOCATION\": [],\n",
        "        \"LINKEDIN\": []\n",
        "    }\n",
        "\n",
        "    # Map entity labels to desired categories\n",
        "    entity_mapping = {\n",
        "        \"PER\": \"APPLICANT_NAME\",\n",
        "        \"ORG\": \"COMPANY\",\n",
        "        \"JOB\": \"JOB_ROLE\",\n",
        "        \"SKILL\": \"SKILL\",\n",
        "        \"EDU\": \"EDUCATION\",\n",
        "        \"CERT\": \"CERTIFICATION\",\n",
        "        \"EXP\": \"YEARS_EXPERIENCE\",\n",
        "        \"LOC\": \"LOCATION\",\n",
        "        \"URL\": \"LINKEDIN\",\n",
        "    }\n",
        "\n",
        "    for entity in entities:\n",
        "        label = entity[\"entity_group\"]\n",
        "        word = entity[\"word\"]\n",
        "        mapped_label = entity_mapping.get(label)\n",
        "\n",
        "        if mapped_label:\n",
        "            if mapped_label == \"COMPANY\":\n",
        "                # Check if word contains any company-related keyword\n",
        "                if any(keyword.lower() in word.lower() for keyword in company_keywords):\n",
        "                    extracted_info[mapped_label].append(word)\n",
        "            else:\n",
        "                extracted_info[mapped_label].append(word)\n",
        "\n",
        "    # Convert lists to strings or keep them as lists if multiple entities exist\n",
        "    for key in extracted_info:\n",
        "        if len(extracted_info[key]) == 1:\n",
        "            extracted_info[key] = extracted_info[key][0]\n",
        "        elif len(extracted_info[key]) == 0:\n",
        "            extracted_info[key] = None\n",
        "\n",
        "    return extracted_info"
      ],
      "metadata": {
        "colab": {
          "base_uri": "https://localhost:8080/"
        },
        "id": "1HiLbzX9FxAM",
        "outputId": "6ee1c88d-4d33-4edb-c9d5-34127fa49b2e"
      },
      "execution_count": null,
      "outputs": [
        {
          "output_type": "stream",
          "name": "stderr",
          "text": [
            "Some weights of the model checkpoint at dslim/bert-base-NER were not used when initializing BertForTokenClassification: ['bert.pooler.dense.bias', 'bert.pooler.dense.weight']\n",
            "- This IS expected if you are initializing BertForTokenClassification from the checkpoint of a model trained on another task or with another architecture (e.g. initializing a BertForSequenceClassification model from a BertForPreTraining model).\n",
            "- This IS NOT expected if you are initializing BertForTokenClassification from the checkpoint of a model that you expect to be exactly identical (initializing a BertForSequenceClassification model from a BertForSequenceClassification model).\n",
            "Device set to use cpu\n"
          ]
        }
      ]
    },
    {
      "cell_type": "markdown",
      "source": [
        "Extract Additional Features\n",
        "\n",
        "Since BERT does not handle all entities well, I'll use regex for:\n",
        "\n",
        "Phone numbers, Emails, LinkedIn profiles"
      ],
      "metadata": {
        "id": "GfksBYJuGA47"
      }
    },
    {
      "cell_type": "code",
      "source": [
        "import re\n",
        "\n",
        "def extract_additional_info(text, extracted_info):\n",
        "    # Extract Phone Number\n",
        "    phone_match = re.search(r'\\(?\\d{3}\\)?[-.\\s]?\\d{3}[-.\\s]?\\d{4}', text)\n",
        "    if phone_match:\n",
        "        extracted_info[\"PHONE\"] = phone_match.group()\n",
        "\n",
        "    # Extract Email\n",
        "    email_match = re.search(r'\\b[A-Za-z0-9._%+-]+@[A-Za-z0-9.-]+\\.[A-Z|a-z]{2,}\\b', text)\n",
        "    if email_match:\n",
        "        extracted_info[\"EMAIL\"] = email_match.group()\n",
        "\n",
        "    # Extract LinkedIn Profile\n",
        "    linkedin_match = re.search(r'https?://(www\\.)?linkedin\\.com/in/[A-Za-z0-9_-]+', text)\n",
        "    if linkedin_match:\n",
        "        extracted_info[\"LINKEDIN\"] = linkedin_match.group()\n",
        "\n",
        "    return extracted_info\n"
      ],
      "metadata": {
        "id": "FV-2pefMGHLP"
      },
      "execution_count": null,
      "outputs": []
    },
    {
      "cell_type": "markdown",
      "source": [
        "Load Skills & Job Roles for Matching\n",
        "\n",
        "Use predefined job roles and skills for entity matching."
      ],
      "metadata": {
        "id": "qFnV_01wGOr7"
      }
    },
    {
      "cell_type": "code",
      "source": [
        "def load_keywords(file_path):\n",
        "    with open(file_path, 'r', encoding='utf-8') as file:\n",
        "        return [line.strip().lower() for line in file.readlines()]\n",
        "\n",
        "skills_list = load_keywords(\"/content/unique_skills.txt\")\n",
        "job_roles_list = load_keywords(\"/content/unique_job_roles.txt\")\n",
        "\n",
        "def match_keywords(text, keyword_list):\n",
        "    return [word for word in keyword_list if word in text.lower()]\n",
        "\n",
        "def extract_skills_job_roles(text, extracted_info):\n",
        "    extracted_info[\"SKILLS\"] = match_keywords(text, skills_list)\n",
        "    extracted_info[\"JOB_ROLE\"] = match_keywords(text, job_roles_list)\n",
        "    return extracted_info\n"
      ],
      "metadata": {
        "id": "Gl3df7T8GRMS"
      },
      "execution_count": null,
      "outputs": []
    },
    {
      "cell_type": "code",
      "source": [
        "def extract_years_experience(text):\n",
        "    \"\"\"\n",
        "    Extracts years of experience from resume text using regex patterns.\n",
        "    \"\"\"\n",
        "    experience_patterns = [\n",
        "        r\"(\\d+)\\s*(?:\\+?\\s*years?|yrs|Yrs|yr|years of experience)\",  # \"5 years of experience\", \"10+ years\"\n",
        "        r\"(\\d+)-(\\d+)\",  # \"2015-2020\" (Calculate difference)\n",
        "        r\"since (\\d{4})\",  # \"since 2015\"\n",
        "        r\"(\\d{4}) to (\\d{4})\"  # \"2015 to 2020\"\n",
        "    ]\n",
        "\n",
        "    extracted_years = []\n",
        "\n",
        "    for pattern in experience_patterns:\n",
        "        matches = re.findall(pattern, text, re.IGNORECASE)\n",
        "        for match in matches:\n",
        "            if isinstance(match, tuple):  # Handling cases like \"2015-2020\"\n",
        "                if len(match) == 2:\n",
        "                    start, end = map(int, match)\n",
        "                    extracted_years.append(end - start)\n",
        "            else:\n",
        "                extracted_years.append(int(match))\n",
        "\n",
        "    # Get the max experience found\n",
        "    return max(extracted_years, default=\"Not Found\")\n",
        "\n"
      ],
      "metadata": {
        "id": "6eQuFyjzQ7cK"
      },
      "execution_count": null,
      "outputs": []
    },
    {
      "cell_type": "markdown",
      "source": [
        "# Complete Resume Parsing Pipeline\n",
        "\n",
        "Combine BERT NER + Regex + Keyword Matching:"
      ],
      "metadata": {
        "id": "rObT4kbVGecB"
      }
    },
    {
      "cell_type": "code",
      "source": [
        "import re\n",
        "import json\n",
        "\n",
        "def parse_resume(pdf_path):\n",
        "    # Step 1: Extract text from PDF\n",
        "    resume_text = extract_text_from_pdf(pdf_path)\n",
        "\n",
        "    # Step 2: Extract entities using BERT\n",
        "    extracted_info = extract_entities_bert(resume_text)\n",
        "\n",
        "    # Step 3: Extract additional details (phone, email, LinkedIn, certifications)\n",
        "    extracted_info = extract_additional_info(resume_text, extracted_info)\n",
        "\n",
        "    # Step 4: Match skills and job roles\n",
        "    extracted_info = extract_skills_job_roles(resume_text, extracted_info)\n",
        "\n",
        "    # Step 5: Extract Companies Worked For\n",
        "    extracted_info[\"COMPANIES_WORKED_FOR\"] = extract_companies(resume_text)\n",
        "\n",
        "    # Step 6: Extract Education Background\n",
        "    extracted_info[\"EDUCATION\"], extracted_info[\"EDUCATION_INSTITUTIONS\"] = extract_education(resume_text)\n",
        "\n",
        "    # ✅ Extract Years of Experience\n",
        "    extracted_info[\"YEARS_EXPERIENCE\"] = extract_years_experience(resume_text)\n",
        "\n",
        "    # Ensure all required fields exist\n",
        "    required_keys = [\n",
        "        \"APPLICANT_NAME\", \"JOB_ROLE\", \"PHONE\", \"EMAIL\", \"COMPANIES_WORKED_FOR\",\n",
        "        \"YEARS_EXPERIENCE\", \"SKILLS\", \"REFEREES\", \"LINKEDIN\", \"CERTIFICATIONS\",\n",
        "        \"EDUCATION\", \"EDUCATION_INSTITUTIONS\"\n",
        "    ]\n",
        "    extracted_info = {key: extracted_info.get(key, \"Not Found\") for key in required_keys}\n",
        "\n",
        "    # Clean Skills List\n",
        "    extracted_info[\"SKILLS\"] = clean_skills_list(extracted_info[\"SKILLS\"])\n",
        "\n",
        "    return extracted_info\n",
        "\n",
        "# 🔹 Extract companies based on patterns & BERT\n",
        "def extract_companies(text):\n",
        "    company_patterns = r\"\\b(?:Solutions|Institute|Company|Inc|Ltd|Limited|Corp|Technologies|Consulting|Industries|Systems|Enterprises)\\b\"\n",
        "\n",
        "    # ✅ Extract ORG entities from BERT (Fix: Use extract_entities_bert)\n",
        "    entities = extract_entities_bert(text)\n",
        "    company_names = entities.get(\"COMPANY\", [])  # Extract company names\n",
        "\n",
        "    # ✅ Extract based on patterns\n",
        "    pattern_matches = re.findall(r\"([A-Z][a-z]+(?:\\s[A-Z][a-z]+)*\\s\" + company_patterns + \")\", text)\n",
        "\n",
        "    # ✅ Combine & remove duplicates\n",
        "    companies = list(set((company_names if isinstance(company_names, list) else [company_names]) + pattern_matches))\n",
        "    return companies if companies else \"Not Found\"\n",
        "\n",
        "\n",
        "# 🔹 Extract education details based on degrees & institutions\n",
        "def extract_education(text):\n",
        "    degree_keywords = r\"\\b(?:Diploma|Certificate|Bachelor(?:'s)?|BSc|MSc|PhD|Master(?:'s)?|Doctorate|Associate|Engineering|MBA|BS|MS|BA|MA)\\b\"\n",
        "\n",
        "    # ✅ Extract ORG entities from BERT (universities are often tagged as ORG)\n",
        "    entities = extract_entities_bert(text)\n",
        "    institutions = entities.get(\"COMPANY\", [])  # Universities often get tagged as ORG\n",
        "\n",
        "    # ✅ Extract degrees from text\n",
        "    degrees = re.findall(degree_keywords, text, re.IGNORECASE)\n",
        "\n",
        "    return (\", \".join(set(degrees)) if degrees else \"Not Found\", institutions if institutions else \"Not Found\")\n",
        "\n",
        "# 🔹 Clean Skills List\n",
        "def clean_skills_list(skills_list):\n",
        "    \"\"\"Remove noise from extracted skills.\"\"\"\n",
        "    stopwords = {\"the\", \"and\", \"in\", \"of\", \"to\", \"for\", \"on\", \"by\", \"with\", \"as\", \"at\", \"or\", \"an\", \"a\", \"is\", \"it\", \"be\"}\n",
        "    return [skill for skill in skills_list if skill.lower() not in stopwords and len(skill) > 2]\n",
        "\n",
        "# Test on a sample resume\n",
        "parsed_data = parse_resume(\"/content/Moses Mugambi Data Analyst CV.pdf\")\n",
        "\n",
        "# Print each extracted entity on a new line\n",
        "print(\"\\nExtracted Resume Information:\")\n",
        "for key, value in parsed_data.items():\n",
        "    print(f\"{key}: {value if value != 'Not Found' else 'N/A'}\")\n"
      ],
      "metadata": {
        "colab": {
          "base_uri": "https://localhost:8080/"
        },
        "id": "e7_l24O9GgBD",
        "outputId": "137200d3-41a5-488d-a55e-3abf32b32e76"
      },
      "execution_count": null,
      "outputs": [
        {
          "output_type": "stream",
          "name": "stdout",
          "text": [
            "\n",
            "Extracted Resume Information:\n",
            "APPLICANT_NAME: Moses Mu\n",
            "JOB_ROLE: ['data scientist']\n",
            "PHONE: 2547186952\n",
            "EMAIL: mugambimoses2@gmail.com\n",
            "COMPANIES_WORKED_FOR: ['Technical University of Kenya']\n",
            "YEARS_EXPERIENCE: N/A\n",
            "SKILLS: ['excel', 'tri', 'data analysis', 'science', 'out', 'sql', 'mac', 'pro', 'machine learning', 'python', 'work', 'act', 'point', 'tech', 'web', 'certificate', 'analysis', 'school', 'project', 'con', 'data visualization', 'grade', 'engineering', 'cal', 'based', 'professional', 'end', 'base', 'data', 'data s', 'pre', 'you', 'mary', 'adapt', 'control', 'high school', 'visual', 'time', 'view', 'chi', 'roll', 'visualization', 'world', 'one', 'per', 'ana', 'drive', 'mma', 'lea', 'experience', 'series analysis', 'google', 'line', 'mail', 'prof', 'scientific', 'series', 'table', 'team', 'engineer', 'model', 'ken', 'rev', 'rom', 'fun', 'apps', 'learning', 'data science', 'quality', 'review', 'las', 'ada', 'act']\n",
            "REFEREES: N/A\n",
            "LINKEDIN: None\n",
            "CERTIFICATIONS: N/A\n",
            "EDUCATION: Engineering, Certificate\n",
            "EDUCATION_INSTITUTIONS: Technical University of Kenya\n"
          ]
        }
      ]
    },
    {
      "cell_type": "markdown",
      "source": [
        "# Save the Model for Deployment\n",
        "\n",
        "Save the BERT pipeline in joblib and pickle for future use."
      ],
      "metadata": {
        "id": "WDJnI316G-mn"
      }
    },
    {
      "cell_type": "code",
      "source": [
        "import joblib\n",
        "import pickle\n",
        "\n",
        "# Save BERT NER pipeline using joblib\n",
        "joblib.dump(bert_ner, \"bert_resume_parser.joblib\")\n",
        "\n",
        "# Save using pickle\n",
        "with open(\"bert_resume_parser.pkl\", \"wb\") as f:\n",
        "    pickle.dump(bert_ner, f)\n"
      ],
      "metadata": {
        "id": "GODFSAQCHB1c"
      },
      "execution_count": null,
      "outputs": []
    },
    {
      "cell_type": "markdown",
      "source": [
        "# Load and Use the Saved Model\n",
        "\n",
        "Reload the model when deploying:"
      ],
      "metadata": {
        "id": "K3Cnkji6HMtG"
      }
    },
    {
      "cell_type": "code",
      "source": [
        "# Load model from joblib\n",
        "bert_ner = joblib.load(\"bert_resume_parser.joblib\")\n",
        "\n",
        "# Load model from pickle\n",
        "with open(\"bert_resume_parser.pkl\", \"rb\") as f:\n",
        "    bert_ner = pickle.load(f)\n",
        "\n",
        "# Test with a new resume\n",
        "new_parsed_data = parse_resume(\"/content/Moses Mugambi Data Analyst CV.pdf\")\n",
        "# Print each extracted entity on a new line\n",
        "print(\"\\nExtracted Resume Information:\")\n",
        "for key, value in new_parsed_data.items():\n",
        "    print(f\"{key}: {value if value != 'Not Found' else 'N/A'}\")\n"
      ],
      "metadata": {
        "colab": {
          "base_uri": "https://localhost:8080/"
        },
        "id": "N5ZoI28cHRXV",
        "outputId": "79234c1f-1b4d-4755-b23d-0e66c8771508"
      },
      "execution_count": null,
      "outputs": [
        {
          "output_type": "stream",
          "name": "stdout",
          "text": [
            "\n",
            "Extracted Resume Information:\n",
            "APPLICANT_NAME: Moses Mu\n",
            "JOB_ROLE: ['data scientist']\n",
            "PHONE: 2547186952\n",
            "EMAIL: mugambimoses2@gmail.com\n",
            "COMPANIES_WORKED_FOR: ['Technical University of Kenya']\n",
            "YEARS_EXPERIENCE: N/A\n",
            "SKILLS: ['excel', 'tri', 'data analysis', 'science', 'out', 'sql', 'mac', 'pro', 'machine learning', 'python', 'work', 'act', 'point', 'tech', 'web', 'certificate', 'analysis', 'school', 'project', 'con', 'data visualization', 'grade', 'engineering', 'cal', 'based', 'professional', 'end', 'base', 'data', 'data s', 'pre', 'you', 'mary', 'adapt', 'control', 'high school', 'visual', 'time', 'view', 'chi', 'roll', 'visualization', 'world', 'one', 'per', 'ana', 'drive', 'mma', 'lea', 'experience', 'series analysis', 'google', 'line', 'mail', 'prof', 'scientific', 'series', 'table', 'team', 'engineer', 'model', 'ken', 'rev', 'rom', 'fun', 'apps', 'learning', 'data science', 'quality', 'review', 'las', 'ada', 'act']\n",
            "REFEREES: N/A\n",
            "LINKEDIN: None\n",
            "CERTIFICATIONS: N/A\n",
            "EDUCATION: Engineering, Certificate\n",
            "EDUCATION_INSTITUTIONS: Technical University of Kenya\n"
          ]
        }
      ]
    },
    {
      "cell_type": "markdown",
      "source": [
        "# Implement CV Rating Based on Job Description\n",
        "**Steps:**\n",
        "\n",
        "Extract key requirements from the job description:\n",
        "\n",
        "Skills (Python, SQL, Machine Learning, etc.)\n",
        "Experience Level (years of experience)\n",
        "Education Requirements\n",
        "Certifications (AWS, PMP, etc.)\n",
        "Compare Resume vs. Job Description\n",
        "\n",
        "Match extracted skills, experience, and education\n",
        "Assign weights to each category\n",
        "Score the CV based on how well it matches the job"
      ],
      "metadata": {
        "id": "REwrXUHVTfPc"
      }
    },
    {
      "cell_type": "markdown",
      "source": [
        "Extract Key Information from Job Description\n",
        "First, create a function to extract keywords from a job description using NER, Regex, and NLP."
      ],
      "metadata": {
        "id": "7SbKlVabTtYk"
      }
    },
    {
      "cell_type": "code",
      "source": [
        "import re\n",
        "import spacy\n",
        "from collections import Counter\n",
        "\n",
        "nlp = spacy.load(\"en_core_web_sm\")  # Load Spacy NLP model\n",
        "\n",
        "def extract_job_requirements(job_text):\n",
        "    \"\"\"\n",
        "    Extracts key requirements (skills, experience, education) from job description.\n",
        "    \"\"\"\n",
        "    doc = nlp(job_text)\n",
        "\n",
        "    # Extract education (Bachelor, Master, PhD)\n",
        "    education_levels = [\"bachelor\", \"master\", \"phd\", \"degree\", \"diploma\"]\n",
        "    extracted_education = [token.text for token in doc if token.text.lower() in education_levels]\n",
        "\n",
        "    # Extract required skills using simple regex (you can enhance this with a skill dataset)\n",
        "    skill_pattern = r\"\\b[A-Za-z+#.]+\\b\"\n",
        "    extracted_skills = re.findall(skill_pattern, job_text)\n",
        "\n",
        "    # Extract years of experience\n",
        "    experience = re.findall(r\"(\\d+)\\s*(?:\\+?\\s*years?|yrs|years of experience)\", job_text)\n",
        "\n",
        "    job_requirements = {\n",
        "        \"EDUCATION_REQUIRED\": list(set(extracted_education)),\n",
        "        \"SKILLS_REQUIRED\": list(set(extracted_skills)),\n",
        "        \"EXPERIENCE_REQUIRED\": max(map(int, experience), default=0)\n",
        "    }\n",
        "\n",
        "    return job_requirements\n"
      ],
      "metadata": {
        "colab": {
          "base_uri": "https://localhost:8080/"
        },
        "id": "nUbG5DfNTwPF",
        "outputId": "a4bf070a-38cb-490e-864b-76da406f6657"
      },
      "execution_count": null,
      "outputs": [
        {
          "output_type": "stream",
          "name": "stderr",
          "text": [
            "/usr/local/lib/python3.11/dist-packages/spacy/util.py:1740: UserWarning: [W111] Jupyter notebook detected: if using `prefer_gpu()` or `require_gpu()`, include it in the same cell right before `spacy.load()` to ensure that the model is loaded on the correct device. More information: http://spacy.io/usage/v3#jupyter-notebook-gpu\n",
            "  warnings.warn(Warnings.W111)\n"
          ]
        }
      ]
    },
    {
      "cell_type": "markdown",
      "source": [
        "Score the Resume Against the Job Description\n",
        "Now, compare the extracted resume details vs. job description requirements."
      ],
      "metadata": {
        "id": "Siwog_hTT0Zu"
      }
    },
    {
      "cell_type": "code",
      "source": [
        "def rate_cv(resume_data, job_requirements):\n",
        "    \"\"\"\n",
        "    Scores a resume based on how well it matches the job description.\n",
        "    \"\"\"\n",
        "    score = 0\n",
        "    total_weight = 0\n",
        "\n",
        "    # ✅ Match Skills\n",
        "    resume_skills = set(resume_data.get(\"SKILLS\", []))\n",
        "    job_skills = set(job_requirements.get(\"SKILLS_REQUIRED\", []))\n",
        "\n",
        "    skill_match = len(resume_skills & job_skills) / max(1, len(job_skills))  # % match\n",
        "    score += skill_match * 40  # Skills have 40% weight\n",
        "    total_weight += 40\n",
        "\n",
        "    # ✅ Match Education Level\n",
        "    resume_edu = set(resume_data.get(\"EDUCATION\", []))\n",
        "    job_edu = set(job_requirements.get(\"EDUCATION_REQUIRED\", []))\n",
        "\n",
        "    education_match = 1 if resume_edu & job_edu else 0  # Full match if any degree matches\n",
        "    score += education_match * 20  # Education has 20% weight\n",
        "    total_weight += 20\n",
        "\n",
        "    # ✅ Match Experience\n",
        "    resume_exp = resume_data.get(\"YEARS_EXPERIENCE\", 0)\n",
        "    job_exp = job_requirements.get(\"EXPERIENCE_REQUIRED\", 0)\n",
        "\n",
        "    experience_match = min(resume_exp / max(1, job_exp), 1)  # Cap at 100%\n",
        "    score += experience_match * 30  # Experience has 30% weight\n",
        "    total_weight += 30\n",
        "\n",
        "    # ✅ Bonus for Certifications (if applicable)\n",
        "    cert_bonus = 10  # Bonus for having extra certifications\n",
        "    score += cert_bonus\n",
        "    total_weight += 10\n",
        "\n",
        "    # Normalize Score\n",
        "    final_score = (score / total_weight) * 100  # Convert to percentage\n",
        "\n",
        "    return round(final_score, 2)\n"
      ],
      "metadata": {
        "id": "kP-t_JLMT09t"
      },
      "execution_count": null,
      "outputs": []
    },
    {
      "cell_type": "markdown",
      "source": [
        "Modify parse_resume to Include CV Rating\n",
        "Now, integrate job analysis + CV rating into your main function:"
      ],
      "metadata": {
        "id": "giZCF3N8T5s2"
      }
    },
    {
      "cell_type": "code",
      "source": [
        "def parse_resume_and_rate(pdf_path, job_description):\n",
        "    \"\"\"\n",
        "    Parses a resume, extracts details, and rates it against a job description.\n",
        "    \"\"\"\n",
        "    resume_text = extract_text_from_pdf(pdf_path)\n",
        "    resume_data = parse_resume(resume_text)  # Extract resume details\n",
        "\n",
        "    # Extract Job Requirements\n",
        "    job_requirements = extract_job_requirements(job_description)\n",
        "\n",
        "    # Score Resume\n",
        "    cv_score = rate_cv(resume_data, job_requirements)\n",
        "\n",
        "    # Add score to extracted resume data\n",
        "    resume_data[\"CV_SCORE\"] = cv_score\n",
        "    return resume_data\n"
      ],
      "metadata": {
        "id": "rSlr1qncT7Vb"
      },
      "execution_count": null,
      "outputs": []
    },
    {
      "cell_type": "code",
      "source": [
        "import pdfplumber\n",
        "\n",
        "sample_resume_path = \"/content/Moses Mugambi Data Analyst CV.pdf\"\n",
        "\n",
        "try:\n",
        "    with pdfplumber.open(sample_resume_path) as pdf:\n",
        "        print(\"✅ PDF file opened successfully!\")\n",
        "except FileNotFoundError:\n",
        "    print(\"❌ FileNotFoundError: The file path is incorrect.\")\n",
        "except Exception as e:\n",
        "    print(f\"❌ Another error occurred: {e}\")\n",
        "\n"
      ],
      "metadata": {
        "colab": {
          "base_uri": "https://localhost:8080/"
        },
        "id": "JkHLvDVgV1Ii",
        "outputId": "6e367bbd-a764-4a6d-a197-47c4f75293fe"
      },
      "execution_count": null,
      "outputs": [
        {
          "output_type": "stream",
          "name": "stdout",
          "text": [
            "✅ PDF file opened successfully!\n"
          ]
        }
      ]
    },
    {
      "cell_type": "code",
      "source": [
        "# Sample Job Description\n",
        "job_description = \"\"\"\n",
        "We are looking for a Data Scientist with 5+ years of experience in Machine Learning, Python, and SQL.\n",
        "The ideal candidate should have a Master's degree in Computer Science or a related field.\n",
        "Familiarity with cloud platforms (AWS, GCP) is a plus.\n",
        "\"\"\"\n",
        "\n",
        "sample_resume_path = \"/content/Moses Mugambi Data Analyst CV.pdf\"  # Provide the actual file path\n",
        "print(type(sample_resume_path))  # Should be <class 'str'>\n",
        "\n",
        "def debug_parse_resume(path):\n",
        "    print(f\"📂 Trying to open file at: {repr(path)}\")\n",
        "    with pdfplumber.open(path) as pdf:\n",
        "        return \"✅ Opened successfully!\"\n",
        "\n",
        "debug_parse_resume(sample_resume_path)\n",
        "\n"
      ],
      "metadata": {
        "colab": {
          "base_uri": "https://localhost:8080/",
          "height": 70
        },
        "id": "nIHz1D8sUCvw",
        "outputId": "90f3e7ac-6b63-46cb-d2a7-f0a53f67acc7"
      },
      "execution_count": null,
      "outputs": [
        {
          "output_type": "stream",
          "name": "stdout",
          "text": [
            "<class 'str'>\n",
            "📂 Trying to open file at: '/content/Moses Mugambi Data Analyst CV.pdf'\n"
          ]
        },
        {
          "output_type": "execute_result",
          "data": {
            "text/plain": [
              "'✅ Opened successfully!'"
            ],
            "application/vnd.google.colaboratory.intrinsic+json": {
              "type": "string"
            }
          },
          "metadata": {},
          "execution_count": 50
        }
      ]
    },
    {
      "cell_type": "code",
      "source": [
        "import pdfplumber\n",
        "import re\n",
        "from sklearn.feature_extraction.text import TfidfVectorizer\n",
        "from sklearn.metrics.pairwise import cosine_similarity\n",
        "\n",
        "def extract_resume_text(pdf_path):\n",
        "    \"\"\"Extracts text from the resume PDF.\"\"\"\n",
        "    try:\n",
        "        with pdfplumber.open(pdf_path) as pdf:\n",
        "            text = \"\\n\".join([page.extract_text() for page in pdf.pages if page.extract_text()])\n",
        "        return text if text else \"No text found.\"\n",
        "    except Exception as e:\n",
        "        return f\"Error reading file: {e}\"\n",
        "\n",
        "def summarize_resume(resume_text):\n",
        "    \"\"\"Extracts key sections: skills, experience, education from resume text.\"\"\"\n",
        "\n",
        "    summary = {}\n",
        "\n",
        "    # Extract Experience (Look for 'Experience', 'Work', 'Projects')\n",
        "    experience_match = re.search(r\"(experience|work history|projects):?\\s*(.+)\", resume_text, re.IGNORECASE)\n",
        "    summary[\"Experience\"] = experience_match.group(2) if experience_match else \"Not Found\"\n",
        "\n",
        "    # Extract Skills (Look for 'Skills', 'Technical Skills', etc.)\n",
        "    skills_match = re.search(r\"(skills|technical skills):?\\s*(.+)\", resume_text, re.IGNORECASE)\n",
        "    summary[\"Skills\"] = skills_match.group(2) if skills_match else \"Not Found\"\n",
        "\n",
        "    # Extract Education\n",
        "    education_match = re.search(r\"(education|academic background):?\\s*(.+)\", resume_text, re.IGNORECASE)\n",
        "    summary[\"Education\"] = education_match.group(2) if education_match else \"Not Found\"\n",
        "\n",
        "    # Create final description\n",
        "    resume_description = (\n",
        "        f\"Experience: {summary['Experience']}\\n\"\n",
        "        f\"Skills: {summary['Skills']}\\n\"\n",
        "        f\"Education: {summary['Education']}\\n\"\n",
        "    )\n",
        "\n",
        "    return resume_description\n",
        "\n",
        "def compare_resume_with_job(resume_text, job_description):\n",
        "    \"\"\"Compares resume description with job description using TF-IDF similarity.\"\"\"\n",
        "\n",
        "    documents = [resume_text, job_description]\n",
        "    vectorizer = TfidfVectorizer()\n",
        "    tfidf_matrix = vectorizer.fit_transform(documents)\n",
        "\n",
        "    # Compute cosine similarity\n",
        "    similarity_score = cosine_similarity(tfidf_matrix[0], tfidf_matrix[1])[0][0]\n",
        "\n",
        "    return round(similarity_score * 100, 2)  # Convert to percentage\n",
        "\n",
        "# === 🚀 Test the Code on a Sample Resume & Job Description ===\n",
        "resume_pdf_path = \"/content/Moses Mugambi Data Analyst CV.pdf\"  # 🔹 Replace with actual file path\n",
        "job_description = \"\"\"\n",
        "We are looking for a Data Scientist with expertise in Python, SQL, and machine learning.\n",
        "The ideal candidate should have experience in data visualization, NLP, and time series analysis.\n",
        "\"\"\"\n",
        "\n",
        "# 1️⃣ Extract Resume Text\n",
        "resume_text = extract_resume_text(resume_pdf_path)\n",
        "print(\"\\n📄 Extracted Resume Text:\\n\", resume_text[:500], \"...\")  # Print first 500 chars\n",
        "\n",
        "# 2️⃣ Summarize Resume\n",
        "resume_summary = summarize_resume(resume_text)\n",
        "print(\"\\n📌 Resume Summary:\\n\", resume_summary)\n",
        "\n",
        "# 3️⃣ Compare Resume with Job Description\n",
        "match_score = compare_resume_with_job(resume_summary, job_description)\n",
        "print(\"\\n✅ CV Match Score:\", match_score, \"%\")\n"
      ],
      "metadata": {
        "colab": {
          "base_uri": "https://localhost:8080/"
        },
        "id": "q31OT2KUYoVb",
        "outputId": "8a715b21-5644-4090-a235-fb8a1b168bd0"
      },
      "execution_count": null,
      "outputs": [
        {
          "output_type": "stream",
          "name": "stdout",
          "text": [
            "\n",
            "📄 Extracted Resume Text:\n",
            " Moses Mugambi\n",
            "Data Scientist\n",
            "Email: mugambimoses2@gmail.com | Phone: +254718695260\n",
            "LinkedIn: linkedin.com/in/moses-mugambi-njeru | GitHub: github.com/mk7890\n",
            "Professional Summary\n",
            "Motivated Data Scientist with expertise in Python, data analysis, visualizations, and machine\n",
            "learning. Proficient in SQL, Tableau, Excel, and web scraping. Experienced in predictive\n",
            "modelling, clustering, and NLP. Passionate about deriving insights from data to solve real-world\n",
            "problems.\n",
            "Work Experience\n",
            "• Resume Parser. ...\n",
            "\n",
            "📌 Resume Summary:\n",
            " Experience: d in predictive\n",
            "Skills: • Hard Skills: Python (Pandas, NumPy, Scikit-Learn), SQL, Tableau, Machine Learning,\n",
            "Education: Data Science Full - Time\n",
            "\n",
            "\n",
            "✅ CV Match Score: 22.89 %\n"
          ]
        }
      ]
    },
    {
      "cell_type": "markdown",
      "source": [
        "# Saving the model"
      ],
      "metadata": {
        "id": "VOzehkWIj1r9"
      }
    },
    {
      "cell_type": "markdown",
      "source": [
        "Saving the Model using Pickle (.pkl)"
      ],
      "metadata": {
        "id": "8-vD3lRYkD2i"
      }
    },
    {
      "cell_type": "code",
      "source": [
        "import pickle\n",
        "from sklearn.feature_extraction.text import TfidfVectorizer\n",
        "\n",
        "# Sample job description for training the model\n",
        "job_description = \"\"\"\n",
        "We are looking for a Data Scientist with expertise in Python, SQL, and machine learning.\n",
        "The ideal candidate should have experience in data visualization, NLP, and time series analysis.\n",
        "\"\"\"\n",
        "\n",
        "# Train the TF-IDF Vectorizer\n",
        "vectorizer = TfidfVectorizer()\n",
        "vectorizer.fit([job_description])  # Fit on sample job description\n",
        "\n",
        "# Save the vectorizer model using Pickle\n",
        "with open(\"tfidf_vectorizer.pkl\", \"wb\") as f:\n",
        "    pickle.dump(vectorizer, f)\n",
        "\n",
        "print(\"✅ Model saved as tfidf_vectorizer.pkl\")"
      ],
      "metadata": {
        "colab": {
          "base_uri": "https://localhost:8080/"
        },
        "id": "__uFQVN4kEjE",
        "outputId": "4d82004e-26cf-4461-ad2f-676da50b40f6"
      },
      "execution_count": null,
      "outputs": [
        {
          "output_type": "stream",
          "name": "stdout",
          "text": [
            "✅ Model saved as tfidf_vectorizer.pkl\n"
          ]
        }
      ]
    },
    {
      "cell_type": "markdown",
      "source": [
        "Load and using the model"
      ],
      "metadata": {
        "id": "trWdMAuXkf9S"
      }
    },
    {
      "cell_type": "code",
      "source": [
        "# Load the trained model\n",
        "with open(\"tfidf_vectorizer.pkl\", \"rb\") as f:\n",
        "    loaded_vectorizer = pickle.load(f)\n",
        "\n",
        "# Test with new resume text\n",
        "resume_text = \"\"\"\n",
        "Data Scientist skilled in Python, SQL, and NLP. Experienced in machine learning and time series analysis.\n",
        "\"\"\"\n",
        "job_description_vector = loaded_vectorizer.transform([job_description])\n",
        "resume_vector = loaded_vectorizer.transform([resume_text])\n",
        "\n",
        "# Compute similarity\n",
        "from sklearn.metrics.pairwise import cosine_similarity\n",
        "similarity_score = cosine_similarity(resume_vector, job_description_vector)[0][0]\n",
        "\n",
        "print(\"✅ CV Match Score:\", round(similarity_score * 100, 2), \"%\")\n"
      ],
      "metadata": {
        "colab": {
          "base_uri": "https://localhost:8080/"
        },
        "id": "9W8uI61Ckhkn",
        "outputId": "8d05f380-05b4-48f6-ecb0-247b24756ba0"
      },
      "execution_count": null,
      "outputs": [
        {
          "output_type": "stream",
          "name": "stdout",
          "text": [
            "✅ CV Match Score: 76.8 %\n"
          ]
        }
      ]
    },
    {
      "cell_type": "markdown",
      "source": [
        "JOBLIB"
      ],
      "metadata": {
        "id": "WQAeXthdj3zr"
      }
    },
    {
      "cell_type": "code",
      "source": [
        "import joblib\n",
        "\n",
        "# Save the model with Joblib\n",
        "joblib.dump(vectorizer, \"tfidf_vectorizer.joblib\")\n",
        "\n",
        "print(\"✅ Model saved as tfidf_vectorizer.joblib\")\n"
      ],
      "metadata": {
        "colab": {
          "base_uri": "https://localhost:8080/"
        },
        "id": "xxLx87QJj497",
        "outputId": "1cf26139-dd7b-4fcf-be87-751e558c96b9"
      },
      "execution_count": null,
      "outputs": [
        {
          "output_type": "stream",
          "name": "stdout",
          "text": [
            "✅ Model saved as tfidf_vectorizer.joblib\n"
          ]
        }
      ]
    },
    {
      "cell_type": "markdown",
      "source": [
        "## Saving a Hugging Face Transformers Model\n",
        "For BERT-based NER, your model likely consists of:\n",
        "\n",
        "A Transformer model (AutoModelForTokenClassification or pipeline(\"ner\")).\n",
        "A Tokenizer (AutoTokenizer).\n",
        "Any additional preprocessing logic.\n",
        "\n",
        "1. Save using joblib (Recommended)\n",
        "joblib is better for saving large models because it handles NumPy arrays efficiently."
      ],
      "metadata": {
        "id": "tTknD8dMlsml"
      }
    },
    {
      "cell_type": "code",
      "source": [
        "import joblib\n",
        "from transformers import pipeline\n",
        "\n",
        "# Initialize the Hugging Face pipeline (if not already done)\n",
        "ner_pipeline = pipeline(\"ner\", model=\"dbmdz/bert-large-cased-finetuned-conll03-english\")\n",
        "\n",
        "# Save the model using joblib\n",
        "joblib.dump(ner_pipeline, \"bert_ner_pipeline.joblib\")\n",
        "\n",
        "print(\"✅ BERT NER model saved successfully using joblib!\")\n"
      ],
      "metadata": {
        "colab": {
          "base_uri": "https://localhost:8080/",
          "height": 252,
          "referenced_widgets": [
            "1a34547207de45488a0b632db123c534",
            "446f86b0ae8145649bbe549f0f73b662",
            "9b157893d5fc4ee98365c6de33dd2fed",
            "29089f1afc4d414c8fcef38e7ad5b5bc",
            "4318b6d49ff0460e92a00a4524055b91",
            "bbfd974d67a04c4eb49def75ce9368b0",
            "604018b6032f4901a6749b7099091cb6",
            "b6a39742d0f54d029ddbfb2717190aad",
            "c395f00296214d968a0c10adf89f2ce7",
            "b3d68eeac676488186f3b7c6ea1a69b7",
            "3e4cb44a6b9544b4baef59a3bb0e173e",
            "11f2f2bf7c574a43b97a8fbf48231730",
            "6a240dfa711c4d89a9a1a7b0c8d30e00",
            "4e3c012ff2714fa59f9392a1f90e6738",
            "ffd5b48b7fa248699121023ab717415b",
            "e32c4c0b49be4c38887e3c04a7210366",
            "cc6313604e2946d9b5bb8990d0cf5a60",
            "56e70f4e200d40619e9fb46e206aaa7e",
            "1f3cb40a525345c5bf3f0f8c6d39f1f4",
            "dd3244fb04c949cdb9f28fda3d93b07a",
            "2f12332e55894b80abc081c4d17e1f25",
            "5986a76020714c4b9a060d94d177a6f9",
            "d224c9434d4c4b8992849e26888fb48f",
            "137837acdc3a41c5b856d9e6c9a11dae",
            "0aee3fd6a6ac4ff7a9d433b757732b8d",
            "811381ed963f4fcb8bb23cf373e933cc",
            "2cb16f895693420d9ba3e5ec61047634",
            "3678a14f27794bc59810f94ffb4df1fa",
            "e2fb70b158d4447f95a1e096af656c7e",
            "12242639ed9f48c3915364725ddfaf92",
            "7ec1f8ef18c44beb940677073f6d044c",
            "52a9bd66a08244f48b30184661199d93",
            "84e2e355f84041029ab3507e0c5eaa15",
            "ee8f8e5bb7ed4a828ce31bba3b78105b",
            "c693292089f34f8c816d7e5af41e80ac",
            "ea93922edca94eb2b85ff309cb92baca",
            "dc1aa74c614f49eaaf353a406dbd2eba",
            "378f0de5b5ee44e5b855116d730d73ed",
            "c9a771ad978742afac89f18d4f12840a",
            "19628093f457486d94f348e3ab222c57",
            "b962fef2d2084b1ebe753e7bd3dcd32c",
            "ef82ffd676194ca5b681cdb7cd95056b",
            "527ec42760aa49ab98137acb3390694d",
            "e63712f8b17a4c2ba5b97b9d23b3d288"
          ]
        },
        "id": "4w8GYVg7lzLK",
        "outputId": "c4c3404c-8bc6-4b70-ee25-ee907867439e"
      },
      "execution_count": null,
      "outputs": [
        {
          "output_type": "display_data",
          "data": {
            "text/plain": [
              "config.json:   0%|          | 0.00/998 [00:00<?, ?B/s]"
            ],
            "application/vnd.jupyter.widget-view+json": {
              "version_major": 2,
              "version_minor": 0,
              "model_id": "1a34547207de45488a0b632db123c534"
            }
          },
          "metadata": {}
        },
        {
          "output_type": "display_data",
          "data": {
            "text/plain": [
              "model.safetensors:   0%|          | 0.00/1.33G [00:00<?, ?B/s]"
            ],
            "application/vnd.jupyter.widget-view+json": {
              "version_major": 2,
              "version_minor": 0,
              "model_id": "11f2f2bf7c574a43b97a8fbf48231730"
            }
          },
          "metadata": {}
        },
        {
          "output_type": "stream",
          "name": "stderr",
          "text": [
            "Some weights of the model checkpoint at dbmdz/bert-large-cased-finetuned-conll03-english were not used when initializing BertForTokenClassification: ['bert.pooler.dense.bias', 'bert.pooler.dense.weight']\n",
            "- This IS expected if you are initializing BertForTokenClassification from the checkpoint of a model trained on another task or with another architecture (e.g. initializing a BertForSequenceClassification model from a BertForPreTraining model).\n",
            "- This IS NOT expected if you are initializing BertForTokenClassification from the checkpoint of a model that you expect to be exactly identical (initializing a BertForSequenceClassification model from a BertForSequenceClassification model).\n"
          ]
        },
        {
          "output_type": "display_data",
          "data": {
            "text/plain": [
              "tokenizer_config.json:   0%|          | 0.00/60.0 [00:00<?, ?B/s]"
            ],
            "application/vnd.jupyter.widget-view+json": {
              "version_major": 2,
              "version_minor": 0,
              "model_id": "d224c9434d4c4b8992849e26888fb48f"
            }
          },
          "metadata": {}
        },
        {
          "output_type": "display_data",
          "data": {
            "text/plain": [
              "vocab.txt:   0%|          | 0.00/213k [00:00<?, ?B/s]"
            ],
            "application/vnd.jupyter.widget-view+json": {
              "version_major": 2,
              "version_minor": 0,
              "model_id": "ee8f8e5bb7ed4a828ce31bba3b78105b"
            }
          },
          "metadata": {}
        },
        {
          "output_type": "stream",
          "name": "stderr",
          "text": [
            "Device set to use cpu\n"
          ]
        },
        {
          "output_type": "stream",
          "name": "stdout",
          "text": [
            "✅ BERT NER model saved successfully using joblib!\n"
          ]
        }
      ]
    },
    {
      "cell_type": "markdown",
      "source": [
        "2. Save using pickle (Alternative)\n",
        "pickle works but is slower and less efficient for large models."
      ],
      "metadata": {
        "id": "dSJ81YzfmFqA"
      }
    },
    {
      "cell_type": "code",
      "source": [
        "import pickle\n",
        "\n",
        "# Save the pipeline with pickle\n",
        "with open(\"bert_ner_pipeline.pkl\", \"wb\") as f:\n",
        "    pickle.dump(ner_pipeline, f)\n",
        "\n",
        "print(\"✅ BERT NER model saved successfully using pickle!\")\n"
      ],
      "metadata": {
        "colab": {
          "base_uri": "https://localhost:8080/"
        },
        "id": "P6nm0CdCmFUg",
        "outputId": "a9f7219a-1d0c-4bbb-842c-104c7e7eafdb"
      },
      "execution_count": null,
      "outputs": [
        {
          "output_type": "stream",
          "name": "stdout",
          "text": [
            "✅ BERT NER model saved successfully using pickle!\n"
          ]
        }
      ]
    },
    {
      "cell_type": "markdown",
      "source": [
        "✅ Loading the Model\n",
        "\n",
        "To load the model and use it for inference:"
      ],
      "metadata": {
        "id": "20vb6qOVmQVr"
      }
    },
    {
      "cell_type": "code",
      "source": [
        "# Load from joblib\n",
        "ner_pipeline = joblib.load(\"bert_ner_pipeline.joblib\")\n",
        "\n",
        "# Test on a sample text\n",
        "text = \"John Doe is a data scientist at Google, working on NLP.\"\n",
        "result = ner_pipeline(text)\n",
        "\n",
        "# Print each entity on a separate line\n",
        "print(\"NER Output:\")\n",
        "for entity in result:\n",
        "    print(f\"Entity: {entity['word']}, Label: {entity.get('entity_group', entity.get('entity'))}, Score: {entity['score']:.4f}\")\n"
      ],
      "metadata": {
        "colab": {
          "base_uri": "https://localhost:8080/"
        },
        "id": "N7hpExH0mUqG",
        "outputId": "5adf1cde-c5eb-44c7-f781-971a85ceac5a"
      },
      "execution_count": null,
      "outputs": [
        {
          "output_type": "stream",
          "name": "stdout",
          "text": [
            "NER Output:\n",
            "Entity: John, Label: I-PER, Score: 0.9996\n",
            "Entity: Do, Label: I-PER, Score: 0.9993\n",
            "Entity: ##e, Label: I-PER, Score: 0.9965\n",
            "Entity: Google, Label: I-ORG, Score: 0.9990\n",
            "Entity: NL, Label: I-MISC, Score: 0.6309\n"
          ]
        }
      ]
    },
    {
      "cell_type": "markdown",
      "source": [
        "Save Model to Google drive"
      ],
      "metadata": {
        "id": "0xfJe23AnlgE"
      }
    },
    {
      "cell_type": "code",
      "source": [
        "from google.colab import drive\n",
        "drive.mount('/content/drive')"
      ],
      "metadata": {
        "colab": {
          "base_uri": "https://localhost:8080/"
        },
        "id": "iffr6UojnnmS",
        "outputId": "f7506ff7-aa1e-4f6b-ea43-5ffaaa1f70f7"
      },
      "execution_count": null,
      "outputs": [
        {
          "output_type": "stream",
          "name": "stdout",
          "text": [
            "Mounted at /content/drive\n"
          ]
        }
      ]
    },
    {
      "cell_type": "code",
      "source": [
        "import shutil\n",
        "\n",
        "# Source path (where the model is saved in Colab)\n",
        "source_path = \"/content/bert_ner_pipeline.joblib\"\n",
        "\n",
        "# Destination path (inside Google Drive)\n",
        "destination_path = \"/content/drive/MyDrive/bert_ner_pipeline_copy.joblib\"\n",
        "\n",
        "# Copy the file instead of moving\n",
        "shutil.copy(source_path, destination_path)\n",
        "\n",
        "print(f\"Model copied to {destination_path}\")\n"
      ],
      "metadata": {
        "colab": {
          "base_uri": "https://localhost:8080/"
        },
        "id": "D8ak7Lzlo8rN",
        "outputId": "2f6efd48-c99d-4a19-bbd3-1640d345ac52"
      },
      "execution_count": null,
      "outputs": [
        {
          "output_type": "stream",
          "name": "stdout",
          "text": [
            "Model copied to /content/drive/MyDrive/bert_ner_pipeline_copy.joblib\n"
          ]
        }
      ]
    },
    {
      "cell_type": "code",
      "source": [
        "# Source path (where the model is saved in Colab)\n",
        "source_path = \"/content/bert_resume_parser.pkl\"\n",
        "\n",
        "# Destination path (inside Google Drive)\n",
        "destination_path = \"/content/drive/MyDrive/bert_ner_pipeline_copy.pkl\"\n",
        "\n",
        "# Copy the file instead of moving\n",
        "shutil.copy(source_path, destination_path)\n",
        "\n",
        "print(f\"Model copied to {destination_path}\")\n"
      ],
      "metadata": {
        "colab": {
          "base_uri": "https://localhost:8080/"
        },
        "id": "Go0J_aylpFhv",
        "outputId": "7313d00a-64d1-493c-ef22-2edebfb45cfe"
      },
      "execution_count": null,
      "outputs": [
        {
          "output_type": "stream",
          "name": "stdout",
          "text": [
            "Model copied to /content/drive/MyDrive/bert_ner_pipeline_copy.pkl\n"
          ]
        }
      ]
    },
    {
      "cell_type": "markdown",
      "source": [
        "deploy the BERT-based NER model as a web app using Streamlit. The app will:\n",
        "\n",
        "✅ Allow users to upload a resume (PDF file)\n",
        "✅ Take a job description as input\n",
        "✅ Extract entities from the resume (NER output)\n",
        "✅ Compare it with the job description & provide a CV score\n",
        "\n",
        "📌 Deployment Approach\n",
        "Framework: Streamlit (Fast and simple UI)\n",
        "Backend: Uses Hugging Face Transformers for NER\n",
        "Storage: No need for a database, process files in memory\n",
        "Deployment Options: Streamlit Cloud, Hugging Face Spaces, or Render\n",
        "\n",
        "🚀 Steps to Deploy\n",
        "- Prepare the Model\n",
        "- Load the BERT-based NER model (joblib or pickle)\n",
        "- Use pdfplumber to extract text from the PDF resume\n",
        "- Build the Streamlit App\n",
        "- Upload PDF\n",
        "- Enter Job Description\n",
        "- Extract Named Entities from the resume\n",
        "- Compute a CV Score based on entity matching\n",
        "- Deploy on Streamlit Cloud or Hugging Face Spaces\n",
        "\n",
        "# 📌 Streamlit App Code (deployable)"
      ],
      "metadata": {
        "id": "u47e-KN9qnA4"
      }
    },
    {
      "cell_type": "code",
      "source": [
        "import streamlit as st\n",
        "import joblib\n",
        "import pdfplumber\n",
        "from transformers import pipeline\n",
        "import spacy\n",
        "import re\n",
        "\n",
        "# Load the NER model (pre-trained BERT)\n",
        "model = joblib.load(\"/content/bert_ner_pipeline.joblib\")  # Change path if needed\n",
        "\n",
        "# Function to extract text from PDF\n",
        "def extract_text_from_pdf(pdf_file):\n",
        "    text = \"\"\n",
        "    with pdfplumber.open(pdf_file) as pdf:\n",
        "        for page in pdf.pages:\n",
        "            text += page.extract_text() + \"\\n\"\n",
        "    return text.strip()\n",
        "\n",
        "# Function to extract entities\n",
        "def extract_named_entities(text):\n",
        "    result = model(text)\n",
        "    return result  # List of entities\n",
        "\n",
        "# Function to score resume based on job description match\n",
        "def compute_cv_score(entities, job_desc):\n",
        "    nlp = spacy.load(\"en_core_web_sm\")\n",
        "    job_tokens = set([token.lemma_ for token in nlp(job_desc.lower()) if not token.is_stop])\n",
        "    entity_words = set([re.sub(r\"[^a-zA-Z0-9]\", \"\", ent[\"word\"].lower()) for ent in entities])\n",
        "\n",
        "    common_words = job_tokens.intersection(entity_words)\n",
        "    score = len(common_words) / len(job_tokens) * 100 if job_tokens else 0\n",
        "    return round(score, 2)\n",
        "\n",
        "# Streamlit UI\n",
        "st.title(\"📄 AI-Powered Resume Parser & CV Scorer\")\n",
        "st.write(\"Upload your resume and enter the job description to analyze your fit.\")\n",
        "\n",
        "# Upload Resume\n",
        "uploaded_file = st.file_uploader(\"Upload Resume (PDF)\", type=[\"pdf\"])\n",
        "\n",
        "# Enter Job Description\n",
        "job_desc = st.text_area(\"Enter Job Description\")\n",
        "\n",
        "# Process when button is clicked\n",
        "if st.button(\"Analyze Resume\"):\n",
        "    if uploaded_file and job_desc:\n",
        "        resume_text = extract_text_from_pdf(uploaded_file)\n",
        "        st.subheader(\"Extracted Resume Text\")\n",
        "        st.write(resume_text[:1000] + \"...\")  # Show only first 1000 characters\n",
        "\n",
        "        # Extract Named Entities\n",
        "        entities = extract_named_entities(resume_text)\n",
        "        st.subheader(\"Extracted Named Entities\")\n",
        "        for entity in entities:\n",
        "            st.write(f\"**Entity:** {entity['word']} | **Label:** {entity['entity']} | **Score:** {entity['score']:.4f}\")\n",
        "\n",
        "        # Compute CV Score\n",
        "        cv_score = compute_cv_score(entities, job_desc)\n",
        "        st.subheader(f\"🔍 CV Match Score: {cv_score}%\")\n",
        "        st.progress(cv_score / 100)\n",
        "\n",
        "    else:\n",
        "        st.warning(\"Please upload a resume and enter a job description!\")\n"
      ],
      "metadata": {
        "id": "dE8BJL4rqyYV"
      },
      "execution_count": null,
      "outputs": []
    },
    {
      "cell_type": "markdown",
      "source": [
        "How to Deploy\n",
        "\n",
        "1️⃣ Run Locally\n",
        "\n",
        "Save the script as app.py\n",
        "\n",
        "Install dependencies:"
      ],
      "metadata": {
        "id": "yjB9_gRbq5Bs"
      }
    },
    {
      "cell_type": "code",
      "source": [
        "!pip install streamlit transformers pdfplumber spacy joblib\n",
        "!python -m spacy download en_core_web_sm\n",
        "!pip install streamlit"
      ],
      "metadata": {
        "id": "2ngrYqVAq75E"
      },
      "execution_count": null,
      "outputs": []
    },
    {
      "cell_type": "markdown",
      "source": [
        "bash"
      ],
      "metadata": {
        "id": "TB-fQFxJrAq6"
      }
    },
    {
      "cell_type": "code",
      "source": [
        "streamlit run app.py\n"
      ],
      "metadata": {
        "id": "amjza2Eaq_x4"
      },
      "execution_count": null,
      "outputs": []
    }
  ]
}